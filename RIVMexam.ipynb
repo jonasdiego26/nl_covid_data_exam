{
 "cells": [
  {
   "cell_type": "markdown",
   "metadata": {
    "toc": true
   },
   "source": [
    "<h1>Table of Contents<span class=\"tocSkip\"></span></h1>\n",
    "<div class=\"toc\"><ul class=\"toc-item\"></ul></div>\n",
    "\n",
    "\n",
    "# [Numpy](#numpy)\n",
    "* [Reproductiegetallen](#reproductiegetallen)\n",
    "    * [np: Vraag 1](#np1)\n",
    "    * [np: Vraag 2](#np2)\n",
    "    * [np: Vraag 3](#np3)\n",
    "    * [np: Vraag 4](#np4)\n",
    "    * [np: Vraag 5](#np5)\n",
    "* [Golven berekenen](#golven)\n",
    "    * [np: Vraag 6](#np6)\n",
    "    * [np: Vraag 7](#np7)\n",
    "* [IC-liggers](#liggers)\n",
    "    * [np: Vraag 8](#np8)\n",
    "    * [np: Vraag 9](#np9)\n",
    "    * [np: Vraag 10](#np10)\n",
    "\n",
    "# [Pandas](#pandas)\n",
    "* [Precisie op basis van prevalentie modelleren](#precisie)\n",
    "    * [pd: Vraag 1](#pd1)\n",
    "    * [pd: Vraag 2](#pd2)\n",
    "* [Model testen](#Sensitiviteit)\n",
    "    * [pd: Vraag 3](#pd3)\n",
    "* [Bemonstering voorbereiden](#bem)\n",
    "    * [pd: Vraag 4](#pd4)\n",
    "* [Effecten bemonstering](#bemonstering)\n",
    "    * [pd: Vraag 5](#pd5)\n",
    "    * [pd: Vraag 6](#pd6)\n",
    "* [Gedragsonderzoek 1](#gedrag)\n",
    "    * [pd: Vraag 7](#pd7)\n",
    "* [Teststraat](#teststraat)\n",
    "    * [pd: Vraag 8](#pd8)\n",
    "* [Gedragsonderzoek 2](#gedrag2)\n",
    "    * [pd: Vraag 9](#pd9)\n",
    "    * [pd: Vraag 10](#pd10)\n",
    "    "
   ]
  },
  {
   "cell_type": "markdown",
   "metadata": {},
   "source": [
    "# Tentamen\n",
    "\n",
    "* De **opdracht** is om een take home hertentamen datascience te maken, bestaande uit 10 numpy vragen en 10 pandas vragen gebaseerd op de Corona datasets die verkrijgbaar zijn bij het [RIVM](https://data.rivm.nl/covid-19/).\n",
    "* De opdracht wordt alleen **voldoende** afgerond als het gemaakte hertentamen van een vergelijkbare  kwaliteit  en creativiteit is als de gebruikelijke opdrachten en tentamens in het datascience vak.\n",
    "    * De becijfering is binair: voldaan/niet voldaan. \n",
    "    * Het inleveren is \"one-shot\". Er wordt niet meer over gecommuniceerd.\n",
    "    * Je geeft aan wanneer je gaat inleveren. Als dat nog in Juli is, kan het ook in Juli nagekeken worden. Anders wordt het rond 20 Augustus.\n",
    "* De vorm volgt het gemaakte hertentamen, eerst wordt er wat data ingelezen, dan komen daar numpy vragen over, dan misschien weer wat data inlezen en weer wat numpy vragen. Dan begint het echte werk met de pandas vragen, die steeds een echte onderzoeksvraag oplossen.  Vanzelfsprekend gebruik je veel plaatjes, en mooie visualisaties onder meer in `seaborn`.\n",
    "* Elke vraag bestaat dus uit\n",
    "    * Een niet ambigue grammaticaal correcte zin of zinnen met de vraag en eventuele deelvragen in het Nederlands.\n",
    "    * De bijbehorende data.\n",
    "    * Eventueel een hint.\n",
    "    * assert tests voor de student\n",
    "    * een of meerdere assert tests om het antwoord na te kijken. **Alle vragen worden automatisch nagekeken.**\n",
    "* Download dus de `nbgrader` omgeving en bijbehorende notebook extensies, en zorg dat het tentamen bestaat uit vraagcellen, antwoord cellen en autoamtische test cellen. \n",
    "    * Bij elke vraag heb je ook heldere voorbeeld antwoorden. Volg het gegeven voorbeeld. \n",
    "\n",
    "* Heel veel succes!"
   ]
  },
  {
   "cell_type": "code",
   "execution_count": 1,
   "metadata": {
    "nbgrader": {
     "grade": false,
     "grade_id": "cell-07d1740cb189539d",
     "locked": true,
     "schema_version": 1,
     "solution": false
    }
   },
   "outputs": [],
   "source": [
    "import os\n",
    "import re\n",
    "\n",
    "import json\n",
    "import codecs\n",
    "\n",
    "from datetime import datetime\n",
    "import matplotlib.pylab as plt\n",
    "import numpy as np\n",
    "import pandas as pd\n",
    "import seaborn as sns\n",
    "from nose.tools import assert_almost_equal, assert_equal\n",
    "from pandas.testing import assert_frame_equal\n",
    "\n",
    "from urllib.request import urlopen\n",
    "%matplotlib inline\n",
    "\n"
   ]
  },
  {
   "cell_type": "markdown",
   "metadata": {
    "nbgrader": {
     "grade": false,
     "grade_id": "cell-7c0b8039ad17a718",
     "locked": true,
     "schema_version": 1,
     "solution": false
    }
   },
   "source": [
    "# Numpy\n"
   ]
  },
  {
   "cell_type": "markdown",
   "metadata": {
    "nbgrader": {
     "grade": false,
     "grade_id": "cell-c2cd2ace9f89f873",
     "locked": true,
     "schema_version": 1,
     "solution": false
    }
   },
   "source": [
    "## Reproductiegetallen <a class='anchor' id='Reproductiegetallen'></a>\n",
    "### np: Vraag 1 <a class='anchor' id='np1'></a>\n",
    "\n",
    "Maak een twee-dimensionaal array met de R-waardes geordend op weken in de rijen en op weekdagen in de kolommen. Neem de meldingen van (in ieder geval) de laatste 14 dagen niet mee, omdat deze niet (volledig) gerapporteerd zijn. Begin op de maandag van de eerste melding (waar het RIVM ook begon met rapporteren) tot en met de laatste melding op zondag.\n",
    "\n",
    "Hint: Gebruik modulo om de laatste halve week eruit te halen (mocht dit nodig zijn) en verander daarna pas de shape."
   ]
  },
  {
   "cell_type": "code",
   "execution_count": 2,
   "metadata": {
    "nbgrader": {
     "grade": false,
     "grade_id": "cell-c073b375f0d1206a",
     "locked": true,
     "schema_version": 1,
     "solution": false
    }
   },
   "outputs": [],
   "source": [
    "R_json = json.loads(urlopen('https://data.rivm.nl/covid-19/COVID-19_reproductiegetal.json').read())\n",
    "R_avg = np.array([float(x['Rt_avg']) for x in R_json if len(x)>5])"
   ]
  },
  {
   "cell_type": "code",
   "execution_count": 4,
   "metadata": {
    "nbgrader": {
     "grade": false,
     "grade_id": "cell-112af07ca216e136",
     "locked": false,
     "schema_version": 1,
     "solution": true
    }
   },
   "outputs": [
    {
     "data": {
      "text/plain": [
       "array([[1.93, 1.74, 1.59, 1.74, 2.03, 2.17, 2.18],\n",
       "       [2.2 , 2.15, 2.06, 2.06, 2.1 , 1.99, 1.83],\n",
       "       [1.79, 1.82, 1.84, 1.86, 1.89, 1.9 , 1.8 ],\n",
       "       [1.67, 1.55, 1.43, 1.33, 1.25, 1.16, 1.04],\n",
       "       [0.96, 0.92, 0.88, 0.84, 0.81, 0.79, 0.75]])"
      ]
     },
     "execution_count": 4,
     "metadata": {},
     "output_type": "execute_result"
    }
   ],
   "source": [
    "def R_weken(R_avg):\n",
    "    \n",
    "    ### BEGIN SOLUTION\n",
    "    restdagen = len(R_avg)%7\n",
    "    if restdagen > 0:\n",
    "        R_weekdays = R_avg[:-restdagen]\n",
    "    else:\n",
    "        R_weekdays = R_avg\n",
    "    R_week_array = R_weekdays.reshape(int(R_weekdays.size/7),7) \n",
    "\n",
    "    ### END SOLUTION\n",
    "    \n",
    "    return R_week_array\n",
    "\n",
    "R_week_array = R_weken(R_avg)\n",
    "R_week_array[:5]"
   ]
  },
  {
   "cell_type": "code",
   "execution_count": 5,
   "metadata": {
    "nbgrader": {
     "grade": true,
     "grade_id": "cell-ece5f6b885d6c66e",
     "locked": true,
     "points": 0,
     "schema_version": 1,
     "solution": false
    }
   },
   "outputs": [],
   "source": [
    "### TESTEN VOOR DE STUDENT R_weken\n",
    "assert_equal(R_weken(R_avg).shape[1],7)\n",
    "assert isinstance(R_weken(R_avg), np.ndarray)"
   ]
  },
  {
   "cell_type": "code",
   "execution_count": 6,
   "metadata": {
    "nbgrader": {
     "grade": true,
     "grade_id": "cell-564ab0031a97f363",
     "locked": true,
     "points": 1,
     "schema_version": 1,
     "solution": false
    }
   },
   "outputs": [],
   "source": [
    "### BEGIN HIDDEN TESTS\n",
    "\n",
    "def MYR_weken(R_avg):\n",
    "    restdagen = len(R_avg)%7\n",
    "    if restdagen > 0:\n",
    "        R_weekdays = R_avg[:-restdagen]\n",
    "    else:\n",
    "        R_weekdays = R_avg\n",
    "    R_week_array = R_weekdays.reshape(int(R_weekdays.size/7),7) \n",
    "    return R_week_array\n",
    "\n",
    "MYR_week_array = MYR_weken(R_avg)\n",
    "\n",
    "np.testing.assert_array_almost_equal(R_weken(R_avg), MYR_week_array) \n",
    "\n",
    "### END HIDDEN TESTS"
   ]
  },
  {
   "cell_type": "markdown",
   "metadata": {
    "nbgrader": {
     "grade": false,
     "grade_id": "cell-64934f6c7eafbf47",
     "locked": true,
     "schema_version": 1,
     "solution": false
    }
   },
   "source": [
    "### np: Vraag 2 <a class='anchor' id='np2'></a>\n",
    "Wat is het percentage weken waar één persoon gemiddeld meer dan 1 persoon besmet genomen over het totaal aantal weken? Rond af op twee decimalen.\n"
   ]
  },
  {
   "cell_type": "code",
   "execution_count": 7,
   "metadata": {
    "nbgrader": {
     "grade": false,
     "grade_id": "cell-5b177e2faf5a0f8d",
     "locked": false,
     "schema_version": 1,
     "solution": true
    }
   },
   "outputs": [
    {
     "data": {
      "text/plain": [
       "45.21"
      ]
     },
     "execution_count": 7,
     "metadata": {},
     "output_type": "execute_result"
    }
   ],
   "source": [
    "def overschreidende_weken(R_week_array):\n",
    "    ### BEGIN SOLUTION\n",
    "    percentage_overschreidende_weken = round(100*((np.mean(R_week_array, axis=1) > 1).sum())/(R_week_array.size/7),2)\n",
    "    ### END SOLUTION\n",
    "    return percentage_overschreidende_weken\n",
    "aantal_weken = overschreidende_weken(R_week_array)\n",
    "aantal_weken"
   ]
  },
  {
   "cell_type": "code",
   "execution_count": 8,
   "metadata": {
    "nbgrader": {
     "grade": true,
     "grade_id": "cell-f84583545405104f",
     "locked": true,
     "points": 0,
     "schema_version": 1,
     "solution": false
    }
   },
   "outputs": [],
   "source": [
    "### TESTEN VOOR DE STUDENT overschreidende_weken\n",
    "assert isinstance(overschreidende_weken(R_weken(R_avg)),float)\n",
    "assert overschreidende_weken(R_weken(R_avg)) > 0 and overschreidende_weken(R_weken(R_avg)) < 100"
   ]
  },
  {
   "cell_type": "code",
   "execution_count": 9,
   "metadata": {
    "nbgrader": {
     "grade": true,
     "grade_id": "cell-1e73713b89f3d594",
     "locked": true,
     "points": 1,
     "schema_version": 1,
     "solution": false
    }
   },
   "outputs": [],
   "source": [
    "### END HIDDEN TESTS\n",
    "def MYoverschreidende_weken(MYR_week_array):\n",
    "    percentage_overschreidende_weken = round(100*((np.mean(R_week_array, axis=1) > 1).sum())/(R_week_array.size/7),2)\n",
    "    return percentage_overschreidende_weken\n",
    "\n",
    "assert_almost_equal(aantal_weken, MYoverschreidende_weken(MYR_weken(R_avg)))\n",
    "### END HIDDEN TESTS"
   ]
  },
  {
   "cell_type": "markdown",
   "metadata": {
    "nbgrader": {
     "grade": false,
     "grade_id": "cell-592e429fc19bf1c8",
     "locked": true,
     "schema_version": 1,
     "solution": false
    }
   },
   "source": [
    "### np: Vraag 3 <a class='anchor' id='np3'></a>\n",
    "Maak een functie 'prevalentie_naar_R' die een array returned met per dag een schatting van het reproductiegetal op basis van de dataset met het totaal aantal besmettingen per dag. Het kan even duren voordat de groep personen die op dag x besmet zijn, de groep personen besmetten die op dag y besmet zijn. Zorg er daarom voor dat de tijdsduur van besmetting ingevuld kan worden. "
   ]
  },
  {
   "cell_type": "code",
   "execution_count": 10,
   "metadata": {
    "nbgrader": {
     "grade": false,
     "grade_id": "cell-7b4fd6a466fc4191",
     "locked": true,
     "schema_version": 1,
     "solution": false
    }
   },
   "outputs": [],
   "source": [
    "prevalentie = json.loads(urlopen('https://data.rivm.nl/covid-19/COVID-19_prevalentie.json').read())\n",
    "P_avg = np.array([float(x['prev_avg']) for x in prevalentie if len(x)>5])"
   ]
  },
  {
   "cell_type": "code",
   "execution_count": 20,
   "metadata": {
    "nbgrader": {
     "grade": false,
     "grade_id": "cell-ec78b3049e9cd2a7",
     "locked": false,
     "schema_version": 1,
     "solution": true
    }
   },
   "outputs": [
    {
     "data": {
      "text/plain": [
       "array([1.9283054 , 2.01704545, 2.01232033, 2.10128056, 2.17431193,\n",
       "       2.24386318, 2.35986395, 2.40914127, 2.41305796, 2.41230273])"
      ]
     },
     "execution_count": 20,
     "metadata": {},
     "output_type": "execute_result"
    }
   ],
   "source": [
    "def prevalentie_naar_R(P_avg, besmettingsduur):\n",
    "    ### BEGIN SOLUTION\n",
    "    estimation = P_avg[besmettingsduur:]/P_avg[:-besmettingsduur]\n",
    "    ### END SOLUTION\n",
    "    return estimation\n",
    "\n",
    "estimation = prevalentie_naar_R(P_avg, 4)\n",
    "estimation[:10]"
   ]
  },
  {
   "cell_type": "code",
   "execution_count": 15,
   "metadata": {
    "nbgrader": {
     "grade": true,
     "grade_id": "cell-9bb31b9f04dd7476",
     "locked": true,
     "points": 0,
     "schema_version": 1,
     "solution": false
    }
   },
   "outputs": [],
   "source": [
    "### TESTEN VOOR STUDENTEN\n",
    "assert isinstance(estimation,np.ndarray)"
   ]
  },
  {
   "cell_type": "code",
   "execution_count": 16,
   "metadata": {
    "nbgrader": {
     "grade": true,
     "grade_id": "cell-e5a49e64e559a6b1",
     "locked": true,
     "points": 0.5,
     "schema_version": 1,
     "solution": false
    }
   },
   "outputs": [],
   "source": [
    "### BEGIN HIDDEN TESTS\n",
    "def MYprevalentie_naar_R(P_avg, besmettingsduur):\n",
    "    estimation = P_avg[besmettingsduur:]/P_avg[:-besmettingsduur]\n",
    "    return estimation\n",
    "\n",
    "np.testing.assert_array_almost_equal(prevalentie_naar_R(P_avg, 4),MYprevalentie_naar_R(P_avg, 4))\n",
    "### END HIDDEN TESTS"
   ]
  },
  {
   "cell_type": "markdown",
   "metadata": {
    "nbgrader": {
     "grade": false,
     "grade_id": "cell-429b3cf93f7a4721",
     "locked": true,
     "schema_version": 1,
     "solution": false
    }
   },
   "source": [
    "### np: Vraag 4 <a class='anchor' id='np4'></a>\n",
    "Maak een functie 'correlatie_dagen_besmetting' die voor elk bepaalde besmettingsduur (in dagen) een correlatie geeft tussen het array met jouw geschatte reproductiegetallen en het array met de gemiddelde reproductiegetallen gegeven door het RIVM. Gebruik voor het berekenen van deze correlatie de functie 'correlatie(A, B)'. Neem steeds het grootste mogelijke array beschikbaar om de correlatie mee te berekenen.\n",
    "\n",
    "De uitkomst van het de correlatie tussen de twee arrays per besmettingsduur moet hierop lijken: \n",
    "<pre>\n",
    "{1: 0.9142811357351163,\n",
    " 2: 0.9148399387693543,\n",
    " .....</pre>"
   ]
  },
  {
   "cell_type": "code",
   "execution_count": 21,
   "metadata": {
    "nbgrader": {
     "grade": false,
     "grade_id": "cell-6b7be913844c23b4",
     "locked": false,
     "schema_version": 1,
     "solution": true
    }
   },
   "outputs": [
    {
     "name": "stdout",
     "output_type": "stream",
     "text": [
      "{1: 0.9027447353528338, 2: 0.9087972102274654, 3: 0.9117909491142524, 4: 0.9102173238244049, 5: 0.9044035030074986, 6: 0.8956713572991316, 7: 0.8856017384491025, 8: 0.8737547507948369, 9: 0.859835826439636, 10: 0.8441543570778981, 11: 0.8275052562477965, 12: 0.8100773366251186, 13: 0.7925730102680826, 14: 0.7751062639957963, 15: 0.7582807341021376, 16: 0.7417622915160602, 17: 0.725370774882626, 18: 0.7101311533550385, 19: 0.6967502572866167, 20: 0.6860017004870518, 21: 0.6780343865145791}\n"
     ]
    }
   ],
   "source": [
    "def correlatie(A, B):\n",
    "    teller = np.sum(abs(A-(np.mean(A)))*abs(B-(np.mean(B))))\n",
    "    noemer = np.sqrt( np.sum( abs( A - ( np.mean(A) )) **2 ) )  * np.sqrt( np.sum( abs( B - ( np.mean(B) ) )**2 ) )\n",
    "    return np.float64(teller / noemer)\n",
    "\n",
    "def correlatie_dagen_besmetting(estimation, R_avg):\n",
    "    ### BEGIN SOLUTION\n",
    "    if estimation.size > R_avg.size or estimation.size == R_avg.size:\n",
    "        corr = correlatie(estimation[:R_avg.size],R_avg)\n",
    "    if estimation.size < R_avg.size:\n",
    "        corr = correlatie(estimation,R_avg[:estimation.size])\n",
    "    ### END SOLUTION\n",
    "    return corr\n",
    "\n",
    "besmettingsdagen = dict()\n",
    "for dagen in range(1,22):\n",
    "    estimation = prevalentie_naar_R(P_avg,dagen)\n",
    "    besmettingsdagen[dagen] = correlatie_dagen_besmetting(estimation, R_avg)\n",
    "print(besmettingsdagen)"
   ]
  },
  {
   "cell_type": "code",
   "execution_count": 22,
   "metadata": {
    "nbgrader": {
     "grade": true,
     "grade_id": "cell-05d2e454331f4a7c",
     "locked": true,
     "points": 0,
     "schema_version": 1,
     "solution": false
    }
   },
   "outputs": [],
   "source": [
    "### TESTEN VOOR STUDENTEN\n",
    "assert isinstance(besmettingsdagen,dict)\n",
    "assert((correlatie_dagen_besmetting(estimation, R_avg)<1)and(correlatie_dagen_besmetting(estimation, R_avg)>0))"
   ]
  },
  {
   "cell_type": "code",
   "execution_count": 23,
   "metadata": {
    "nbgrader": {
     "grade": true,
     "grade_id": "cell-7c3978fe0c112f6e",
     "locked": true,
     "points": 1.5,
     "schema_version": 1,
     "solution": false
    }
   },
   "outputs": [],
   "source": [
    "### BEGIN HIDDEN TESTS\n",
    "def MYcorrelatie(A, B):\n",
    "    teller = np.sum(abs(A-(np.mean(A)))*abs(B-(np.mean(B))))\n",
    "    noemer = np.sqrt( np.sum( abs( A - ( np.mean(A) )) **2 ) )  * np.sqrt( np.sum( abs( B - ( np.mean(B) ) )**2 ) )\n",
    "    return np.float64(teller / noemer)\n",
    "\n",
    "def MYcorrelatie_dagen_besmetting(MYestimation, R_avg):\n",
    "    ### BEGIN SOLUTION\n",
    "    if MYestimation.size > R_avg.size or MYestimation.size == R_avg.size:\n",
    "        corr = MYcorrelatie(MYestimation[:R_avg.size],R_avg)\n",
    "    if MYestimation.size < R_avg.size:\n",
    "        corr = MYcorrelatie(MYestimation,R_avg[:MYestimation.size])\n",
    "    ### END SOLUTION\n",
    "    return corr\n",
    "\n",
    "MYbesmettingsdagen = dict()\n",
    "for dagen in range(1,22):\n",
    "    MYestimation = MYprevalentie_naar_R(P_avg,dagen)\n",
    "    MYbesmettingsdagen[dagen] = MYcorrelatie_dagen_besmetting(MYestimation, R_avg)\n",
    "\n",
    "for k in MYbesmettingsdagen:    \n",
    "    assert_almost_equal(besmettingsdagen[k],MYbesmettingsdagen[k],2)   \n",
    "    \n",
    "### END HIDDEN TESTS"
   ]
  },
  {
   "cell_type": "markdown",
   "metadata": {
    "nbgrader": {
     "grade": false,
     "grade_id": "cell-698f8f86ac9196e5",
     "locked": true,
     "schema_version": 1,
     "solution": false
    }
   },
   "source": [
    "### np: Vraag 5 <a class='anchor' id='np5'></a>\n",
    "\n",
    "Maak een 2-dimensionaal array met alle dagen geordend op weken;\n",
    "   -  Met voor de gemiddelden R-waardes boven 1: \n",
    "       - het betrouwbaarheisinterval van die dag, \n",
    "   -  Met voor de gemiddelden R-waardes onder 1: \n",
    "       - een 0\n",
    "    \n",
    "Maak dan een array met het gemiddelde betrouwbaarheidsinterval van elke weekdag (maandag, dinsdag, etc.) met alleen de weken waarin (het gemiddelde reproductiegetal bij elke dag dus boven de 1 ligt) en het betrouwbaarheidsinterval bij elke dag niet kleiner is dan 0.2.\n",
    "\n",
    "Wat is voor elke weekdag het percentage van het gemiddelde betrouwbaarheidsinterval, in verhouding tot zijn eigen deel van een week (in de weken dat het betrouwbaarheidsinterval laag was en het reproductiegetal boven 1)? Return een array met shape (7,) waarbij de waardes optellen naar 700 %. "
   ]
  },
  {
   "cell_type": "code",
   "execution_count": 24,
   "metadata": {
    "nbgrader": {
     "grade": false,
     "grade_id": "cell-81889b4097ff92f8",
     "locked": true,
     "schema_version": 1,
     "solution": false
    }
   },
   "outputs": [],
   "source": [
    "R_json = json.loads(urlopen('https://data.rivm.nl/covid-19/COVID-19_reproductiegetal.json').read())\n",
    "R_avg = np.array([float(x['Rt_avg']) for x in R_json if len(x)>5])\n",
    "R_up = np.array([float(x['Rt_up']) for x in R_json if len(x)>5])\n",
    "R_low = np.array([float(x['Rt_low']) for x in R_json if len(x)>5])"
   ]
  },
  {
   "cell_type": "code",
   "execution_count": 25,
   "metadata": {
    "nbgrader": {
     "grade": false,
     "grade_id": "cell-ee7ebfda0ef89edd",
     "locked": false,
     "schema_version": 1,
     "solution": true
    }
   },
   "outputs": [
    {
     "data": {
      "text/plain": [
       "array([106.04437643,  97.47513389,  89.97704667, 101.75975516,\n",
       "        97.47513389, 107.11553175, 100.15302219])"
      ]
     },
     "execution_count": 25,
     "metadata": {},
     "output_type": "execute_result"
    }
   ],
   "source": [
    "def betrouwbaarheid_besmettelijke_weken(R_avg, R_up, R_low):\n",
    "    ### BEGIN SOLUTION\n",
    "    interval = np.where(R_weken(R_avg)<1, 0, (R_weken(R_up)-R_weken(R_low)))\n",
    "    gem_interval = np.mean(interval[np.all(interval < 0.2, axis=1)],axis=0)\n",
    "    percentage_per_weekdag = 100*gem_interval/np.sum(gem_interval)/(1/len(gem_interval))\n",
    "    ### END SOLUTION\n",
    "    return percentage_per_weekdag\n",
    "percentage_per_weekdag = betrouwbaarheid_besmettelijke_weken(R_avg, R_up, R_low)\n",
    "percentage_per_weekdag"
   ]
  },
  {
   "cell_type": "code",
   "execution_count": 26,
   "metadata": {
    "nbgrader": {
     "grade": true,
     "grade_id": "cell-0618a237d540c154",
     "locked": true,
     "points": 0,
     "schema_version": 1,
     "solution": false
    }
   },
   "outputs": [],
   "source": [
    "# TEST VOOR STUDENT\n",
    "assert isinstance(percentage_per_weekdag, np.ndarray)\n",
    "assert_almost_equal(np.sum(percentage_per_weekdag), 700)"
   ]
  },
  {
   "cell_type": "code",
   "execution_count": 27,
   "metadata": {
    "nbgrader": {
     "grade": true,
     "grade_id": "cell-1a4786144e1e7f2d",
     "locked": true,
     "points": 1,
     "schema_version": 1,
     "solution": false
    }
   },
   "outputs": [],
   "source": [
    "### BEGIN HIDDEN TESTS\n",
    "\n",
    "def MYbetrouwbaarheid_besmettelijke_weken(R_avg, R_up, R_low):\n",
    "    interval = np.where(MYR_weken(R_avg)<1, 0, (MYR_weken(R_up)-MYR_weken(R_low)))\n",
    "    gem_interval = np.mean(interval[np.all(interval < 0.2, axis=1)],axis=0)\n",
    "    return 100*gem_interval/np.sum(gem_interval)/(1/len(gem_interval))\n",
    "MYpercentage_per_weekdag = MYbetrouwbaarheid_besmettelijke_weken(R_avg, R_up, R_low)\n",
    "\n",
    "np.testing.assert_array_almost_equal(percentage_per_weekdag,MYpercentage_per_weekdag)\n",
    "\n",
    "### END HIDDEN TESTS"
   ]
  },
  {
   "cell_type": "markdown",
   "metadata": {
    "nbgrader": {
     "grade": false,
     "grade_id": "cell-53e3adbaa4b26e10",
     "locked": true,
     "schema_version": 1,
     "solution": false
    }
   },
   "source": [
    "## Golven berekenen <a class='anchor' id='golven'></a>\n",
    "### np: Vraag 6 <a class='anchor' id='np6'></a>  \n",
    "\n",
    "In het volgende artikel is te vinden wat een coronagolf precies betekent: \n",
    "<i>\n",
    "Zhang, S. X., Marioli, F. A., & Gao, R. (2021). A Second Wave? What Do People Mean By COVID Waves?-A Working Definition of Epidemic Waves. MedRxiv. https://www.medrxiv.org/content/10.1101/2021.02.21.21252147v1.full-text \n",
    "</i>\n",
    "\n",
    "Uit dit artikel is halen dat een golf begint met een opwaartse en eindigt met een neerwaartse periode van beide 14 acherteropeenvolgende dagen (opgebouwd uit 7 dagen vanwege vertraging in rapportatie, 6 dagen besmettingsduur en 1 dag om rekening te houden met de weekcyclus).\n",
    "\n",
    "Om te berekenen hoeveel golven er in totaal zijn geweest moeten we het aantal sequenties weten van de verhoging(en) of verlaging(en) van elke dag ten opzichte van de dag die daar aan voorafgaat. Doe dit in de functie 'transform()' aan de hand van de data uit 'P_avg'.\n",
    "\n",
    "Return vervolgens een array met in de eerste kolom de lengte in dagen van de opwaarste periode en met in de tweede kolom de lengte in dagen van de neerwaartse periode. Als de laatste periode een stijging ondervindt, voeg je een '0' toe die aangeeft dat de opvolgende neerwaartse periode waarde nul heeft.\n",
    "\n",
    "Het moet er als volgt uit komen te zien:\n",
    "<pre>\n",
    "array([[37, 75],\n",
    "       [ 1,  4],\n",
    "       .....\n",
    "</pre>"
   ]
  },
  {
   "cell_type": "code",
   "execution_count": 28,
   "metadata": {
    "nbgrader": {
     "grade": false,
     "grade_id": "cell-f101e0e2eae90b54",
     "locked": false,
     "schema_version": 1,
     "solution": true
    }
   },
   "outputs": [
    {
     "data": {
      "text/plain": [
       "array([[37, 75],\n",
       "       [ 1,  4],\n",
       "       [ 1,  2],\n",
       "       [ 4, 15],\n",
       "       [38,  1],\n",
       "       [ 1,  8],\n",
       "       [54, 40],\n",
       "       [ 1,  4],\n",
       "       [22, 18],\n",
       "       [ 1, 26],\n",
       "       [ 6,  1],\n",
       "       [ 2,  6],\n",
       "       [ 1,  4],\n",
       "       [53, 71]])"
      ]
     },
     "execution_count": 28,
     "metadata": {},
     "output_type": "execute_result"
    }
   ],
   "source": [
    "def transform(P_avg):\n",
    "    ### BEGIN SOLUTION\n",
    "    transformed = np.where(P_avg[1:]-P_avg[:-1]<0,0,1)\n",
    "    ### END SOLUTION\n",
    "    return transformed\n",
    "\n",
    "def count_sequences(up_and_down):\n",
    "    ### BEGIN SOLUTION\n",
    "    periods = []\n",
    "    down = 0\n",
    "    up = 0\n",
    "    for i in range(up_and_down.size):\n",
    "        direction = up_and_down[i]\n",
    "        if direction == 1:\n",
    "            up += 1\n",
    "            down = 0\n",
    "            if i+1 != up_and_down.size:\n",
    "                if up_and_down[i+1] != 1:\n",
    "                    periods.append(up)\n",
    "            else:\n",
    "                periods.append(up)\n",
    "\n",
    "        if direction == 0:\n",
    "            down += 1\n",
    "            up = 0\n",
    "            if i+1 != up_and_down.size:\n",
    "                if up_and_down[i+1] != 0:\n",
    "                    periods.append(down)\n",
    "            else:\n",
    "                periods.append(down)\n",
    "    if len(periods) % 2 == 1:\n",
    "        periods.append(0)\n",
    "    sequences = np.array(periods).reshape(int(len(periods)/2),2)\n",
    "    ### END SOLUTION\n",
    "    return sequences\n",
    "\n",
    "up_and_down = transform(P_avg)\n",
    "sequences = count_sequences(up_and_down)\n",
    "sequences"
   ]
  },
  {
   "cell_type": "code",
   "execution_count": 29,
   "metadata": {
    "nbgrader": {
     "grade": true,
     "grade_id": "cell-03b2b397b37b9e13",
     "locked": true,
     "points": 0,
     "schema_version": 1,
     "solution": false
    }
   },
   "outputs": [],
   "source": [
    "### TESTEN VOOR STUDENT\n",
    "assert isinstance(count_sequences(P_avg),np.ndarray)\n",
    "assert sequences.shape[1] == 2"
   ]
  },
  {
   "cell_type": "code",
   "execution_count": 30,
   "metadata": {
    "nbgrader": {
     "grade": true,
     "grade_id": "cell-590ba5e58afde0ce",
     "locked": true,
     "points": 2.5,
     "schema_version": 1,
     "solution": false
    }
   },
   "outputs": [],
   "source": [
    "### HIDDEN TESTS\n",
    "def MYtransform(P_avg):\n",
    "    MYtransformed = np.where(P_avg[1:]-P_avg[:-1]<0,0,1)\n",
    "    return MYtransformed\n",
    "\n",
    "def MYcount_sequences(MYup_and_down):\n",
    "    periods = []\n",
    "    down = 0\n",
    "    up = 0\n",
    "    for i in range(MYup_and_down.size):\n",
    "        direction = MYup_and_down[i]\n",
    "        if direction == 1:\n",
    "            up += 1\n",
    "            down = 0\n",
    "            if i+1 != MYup_and_down.size:\n",
    "                if MYup_and_down[i+1] != 1:\n",
    "                    periods.append(up)\n",
    "            else:\n",
    "                periods.append(up)\n",
    "\n",
    "        if direction == 0:\n",
    "            down += 1\n",
    "            up = 0\n",
    "            if i+1 != MYup_and_down.size:\n",
    "                if MYup_and_down[i+1] != 0:\n",
    "                    periods.append(down)\n",
    "            else:\n",
    "                periods.append(down)\n",
    "    if len(periods) % 2 == 1:\n",
    "        periods.append(0)\n",
    "    MYsequences = np.array(periods).reshape(int(len(periods)/2),2)\n",
    "    return MYsequences\n",
    "\n",
    "MYup_and_down = MYtransform(P_avg)\n",
    "MYsequences = MYcount_sequences(MYup_and_down)\n",
    "np.testing.assert_array_almost_equal(sequences,MYsequences)\n",
    "\n",
    "def check_added(up_and_down,MYup_and_down):\n",
    "    if MYup_and_down[-1] == 0:\n",
    "        up_and_down = np.append(up_and_down,[1]*17)\n",
    "        MYup_and_down = np.append(MYup_and_down,[1]*17)\n",
    "        tried = count_sequences(up_and_down)\n",
    "        MYtried = MYcount_sequences(MYup_and_down)\n",
    "        np.testing.assert_array_almost_equal(tried, MYtried)\n",
    "    return None\n",
    "check_added(up_and_down,MYup_and_down)\n",
    "\n",
    "### END HIDDEN TESTS"
   ]
  },
  {
   "cell_type": "markdown",
   "metadata": {
    "nbgrader": {
     "grade": false,
     "grade_id": "cell-45a1298e68ebbafe",
     "locked": true,
     "schema_version": 1,
     "solution": false
    }
   },
   "source": [
    "### np: Vraag 7 <a class='anchor' id='np7'></a>\n",
    "Volgens Zhang et al. wordt een golf noodzakelijkerwijs gedefinieerd als een periode wannneer het aantal gevallen stijgt. Hierbij begint de golf met een opwaartse periode van 14 achteropeenvolgende dagen en eindigt met een neerwaartse periode van 14 acherteropeenvolgende dagen. \n",
    "\n",
    "Maak een array met in de linkerkolom (de som van de) opwaartste periodes en in de rechterkolom (de som van de) neerwaartse periodes van één golf. De rijen verwijzen in dit array naar de golven. In het geval dat de golf stabiliseert (licht fluctuerend toeneemt of afneemt) worden de dagen van de verhoging of verlaging bij de uiteindelijke opwaartste óf neerwaartse periode opgeteld. Twee opwaartse periodes horen hier bij één golf als er geen neerwartse periode tussen zit. \n",
    "\n",
    "Return een tuple met ([jouw array],'True') als er een golf bezig is en ([jouw array],'False') als er géén golf bezig is. Als er momenteel een golf bezig is tel je deze mee, al dan niet met een neerwaartse periode van '0'. Jouw functie zou ook moeten werken als er momenteel een golf gaande is.\n",
    "<pre>\n",
    "(array([[37, 75],\n",
    "        .......]), False)\n",
    "</pre>"
   ]
  },
  {
   "cell_type": "code",
   "execution_count": 32,
   "metadata": {
    "nbgrader": {
     "grade": false,
     "grade_id": "cell-d9cf399bb9bf8523",
     "locked": false,
     "schema_version": 1,
     "solution": true
    }
   },
   "outputs": [
    {
     "data": {
      "text/plain": [
       "(array([[37, 75],\n",
       "        [93, 49],\n",
       "        [22, 18],\n",
       "        [53, 71]]), False)"
      ]
     },
     "execution_count": 32,
     "metadata": {},
     "output_type": "execute_result"
    }
   ],
   "source": [
    "def wavelength(sequences):\n",
    "    ### BEGIN SOLUTION\n",
    "    waves = []\n",
    "    up = 0\n",
    "    down = 0\n",
    "    in_wave = False\n",
    "    for x in range(len(sequences)):\n",
    "        if sequences[x][0] > 14 and sequences[x][1] > 14:\n",
    "            waves.append([sequences[x][0]+up,sequences[x][1]+down])\n",
    "            up = 0\n",
    "            down = 0\n",
    "        if sequences[x][0] > 14 and sequences[x][1] < 15:\n",
    "            up += sequences[x][0]\n",
    "            down += sequences[x][1]\n",
    "        if sequences[x][0] < 15 and sequences[x][1] < 15:\n",
    "            if up > 0:\n",
    "                up += sequences[x][0]\n",
    "                down += sequences[x][1]\n",
    "        if sequences[x][0] < 15 and sequences[x][1] > 14: \n",
    "            None\n",
    "        if x+1 == len(sequences) and up > 0:\n",
    "            waves.append([up,down])\n",
    "            in_wave = True\n",
    "    wave = (np.array(waves),in_wave)\n",
    "    ### END SOLUTION\n",
    "    return wave\n",
    "\n",
    "\n",
    "wave= wavelength(sequences)\n",
    "wave"
   ]
  },
  {
   "cell_type": "code",
   "execution_count": 33,
   "metadata": {
    "nbgrader": {
     "grade": true,
     "grade_id": "cell-57795a3f795680ee",
     "locked": true,
     "points": 0,
     "schema_version": 1,
     "solution": false
    }
   },
   "outputs": [],
   "source": [
    "### TESTEN VOOR STUDENT\n",
    "assert isinstance(wave[0], np.ndarray)\n",
    "assert isinstance(wave[1], bool)"
   ]
  },
  {
   "cell_type": "code",
   "execution_count": 34,
   "metadata": {
    "nbgrader": {
     "grade": true,
     "grade_id": "cell-d3f8127eb84ea3b3",
     "locked": true,
     "points": 2.5,
     "schema_version": 1,
     "solution": false
    }
   },
   "outputs": [],
   "source": [
    "### BEGIN HIDDEN TESTS\n",
    "\n",
    "def MYwavelength(MYsequences):\n",
    "    waves = []\n",
    "    up = 0\n",
    "    down = 0\n",
    "    in_wave = False\n",
    "    for x in range(len(MYsequences)):\n",
    "        if MYsequences[x][0] > 14 and MYsequences[x][1] > 14:  #ronde1, ronde7 (voeg toe samen met up en down, daarna beide naar nul), ronde9 (voeg beide toe)\n",
    "            waves.append([MYsequences[x][0]+up,MYsequences[x][1]+down])\n",
    "            up = 0\n",
    "            down = 0\n",
    "        if MYsequences[x][0] > 14 and MYsequences[x][1] < 15: #ronde5 (begin met tellen)\n",
    "            up += MYsequences[x][0]\n",
    "            down += MYsequences[x][1]\n",
    "        if MYsequences[x][0] < 15 and MYsequences[x][1] < 15: #ronde2 (nog niks), ronde3 (nog niks), ronde6 (ga verder met tellen als er al wat in zit bij up), ronde8 (niks)\n",
    "            if up > 0:\n",
    "                up += MYsequences[x][0]\n",
    "                down += MYsequences[x][1]\n",
    "        if MYsequences[x][0] < 15 and MYsequences[x][1] > 14: # ronde4 (nog niks), ronde10 (niks)\n",
    "            None\n",
    "        if x+1 == len(MYsequences) and up > 0:#tijdens een golf die nog bezig is\n",
    "            waves.append([up,down])\n",
    "            in_wave = True\n",
    "    MYwave = (np.array(waves),in_wave)\n",
    "    return MYwave\n",
    "\n",
    "def check_added(up_and_down,MYup_and_down):\n",
    "    if MYup_and_down[-1] == 0:\n",
    "        up_and_down = np.append(up_and_down,[1]*17)\n",
    "        MYup_and_down = np.append(MYup_and_down,[1]*17)\n",
    "        sequences = count_sequences(up_and_down)\n",
    "        MYsequences = MYcount_sequences(MYup_and_down)\n",
    "        wave= wavelength(sequences)\n",
    "        MYwave = MYwavelength(MYsequences)\n",
    "        np.testing.assert_array_almost_equal(wave[0],MYwave[0])\n",
    "        assert_equal(wave[1], MYwave[1])\n",
    "    return None\n",
    "check_added(up_and_down,MYup_and_down)\n",
    "\n",
    "MYwave = MYwavelength(MYsequences)\n",
    "np.testing.assert_array_almost_equal(wave[0],MYwave[0])\n",
    "assert_equal(wave[1], MYwave[1])\n",
    "\n",
    "### END HIDDEN TESTS"
   ]
  },
  {
   "cell_type": "code",
   "execution_count": 35,
   "metadata": {
    "nbgrader": {
     "grade": true,
     "grade_id": "cell-f601508b202ebca7",
     "locked": true,
     "points": 1,
     "schema_version": 1,
     "solution": false
    }
   },
   "outputs": [],
   "source": [
    "### BEGIN HIDDEN TESTS\n",
    "assert MYwave[0][3] in wave[0]\n",
    "### END HIDDEN TESTS"
   ]
  },
  {
   "cell_type": "markdown",
   "metadata": {
    "nbgrader": {
     "grade": false,
     "grade_id": "cell-be670f85f766bc64",
     "locked": true,
     "schema_version": 1,
     "solution": false
    }
   },
   "source": [
    "## IC-liggers <a class='anchor' id='liggers'></a>\n",
    "### np: Vraag 8 <a class='anchor' id='np8'></a>\n",
    "Return een array met bovenaan in de eerste kolom de leeftdijsgroep die per week het vaakst getroffen is en onderaan in de eerste kolom de leeftijdsgroep die het minst vaak getroffen is. Zorg ook dat je in de tweede kolom hebt staan hoe vaak deze deze leeftijsgroep getroffen is (dus minstens 1 geval) per week.\n"
   ]
  },
  {
   "cell_type": "code",
   "execution_count": 36,
   "metadata": {
    "nbgrader": {
     "grade": false,
     "grade_id": "cell-0e23e95b46efae9a",
     "locked": true,
     "schema_version": 1,
     "solution": false
    }
   },
   "outputs": [],
   "source": [
    "IC_per_age_json = json.loads(urlopen('https://data.rivm.nl/covid-19/COVID-19_ziekenhuis_ic_opnames_per_leeftijdsgroep.json').read())\n",
    "IC_per_age = np.array([\n",
    "    [int(x['IC_admission']), \n",
    "     int(x['Age_group'].replace('+','00').replace('-','')),\n",
    "     int(x['Date_of_statistics_week_start'].replace('-',''))] \n",
    "    for x in IC_per_age_json if x['IC_admission'] and x['Age_group']!='Unknown'\n",
    "])"
   ]
  },
  {
   "cell_type": "code",
   "execution_count": 37,
   "metadata": {
    "nbgrader": {
     "grade": false,
     "grade_id": "cell-962364580c2ab2a3",
     "locked": false,
     "schema_version": 1,
     "solution": true
    }
   },
   "outputs": [
    {
     "data": {
      "text/plain": [
       "array([[5559,   72],\n",
       "       [7074,   71],\n",
       "       [5054,   68],\n",
       "       [6569,   68],\n",
       "       [7579,   67],\n",
       "       [6064,   67],\n",
       "       [4549,   67],\n",
       "       [4044,   61],\n",
       "       [8084,   60],\n",
       "       [3539,   53],\n",
       "       [3034,   52],\n",
       "       [2529,   46],\n",
       "       [8589,   37],\n",
       "       [2024,   30],\n",
       "       [1519,   15],\n",
       "       [9000,    6],\n",
       "       [  14,    1]], dtype=int64)"
      ]
     },
     "execution_count": 37,
     "metadata": {},
     "output_type": "execute_result"
    }
   ],
   "source": [
    "def getroffen_leeftijdsgroep(IC_per_age):\n",
    "    ### BEGIN SOLUTION\n",
    "    getroffen_tuple = np.unique(IC_per_age[:,1],return_counts=True)\n",
    "    getroffen = np.vstack((getroffen_tuple[0],getroffen_tuple[1]))\n",
    "    getroffen_array = getroffen[:,getroffen[1].argsort()].T[::-1]\n",
    "    ### END SOLUTION\n",
    "    return getroffen_array\n",
    "\n",
    "getroffen_array = getroffen_leeftijdsgroep(IC_per_age)\n",
    "getroffen_array"
   ]
  },
  {
   "cell_type": "code",
   "execution_count": 38,
   "metadata": {
    "nbgrader": {
     "grade": true,
     "grade_id": "cell-c3f1bf9c72dfb722",
     "locked": true,
     "points": 0,
     "schema_version": 1,
     "solution": false
    }
   },
   "outputs": [],
   "source": [
    "### TESTEN VOOR STUDENT\n",
    "assert isinstance(getroffen_array,np.ndarray)"
   ]
  },
  {
   "cell_type": "code",
   "execution_count": 39,
   "metadata": {
    "nbgrader": {
     "grade": true,
     "grade_id": "cell-dde669d9e4257003",
     "locked": true,
     "points": 1.5,
     "schema_version": 1,
     "solution": false
    }
   },
   "outputs": [],
   "source": [
    "### BEGIN HIDDEN TEST\n",
    "def MYgetroffen_leeftijdsgroep(IC_per_age):\n",
    "    ### BEGIN SOLUTION\n",
    "    getroffen_tuple = np.unique(IC_per_age[:,1],return_counts=True)\n",
    "    getroffen = np.vstack((getroffen_tuple[0],getroffen_tuple[1]))\n",
    "    getroffen_array = getroffen[:,getroffen[1].argsort()].T[::-1]\n",
    "    ### END SOLUTION\n",
    "    return getroffen_array\n",
    "\n",
    "np.testing.assert_array_almost_equal(getroffen_array,MYgetroffen_leeftijdsgroep(IC_per_age))\n",
    "### END HIDDEN TEST"
   ]
  },
  {
   "cell_type": "markdown",
   "metadata": {
    "nbgrader": {
     "grade": false,
     "grade_id": "cell-506c8a3f30215c41",
     "locked": true,
     "schema_version": 1,
     "solution": false
    }
   },
   "source": [
    "### np: Vraag 9 <a class='anchor' id='np9'></a>\n",
    "Uit de dataset van de IC-opnames die per dag gemeten zijn, willen we een array maken met hoeveel patiënten er dagelijks op de IC liggen als zij er allen precies 18 dagen zouden liggen (ligduur). Uit de rijen is op te halen hoeveel mensen er op de IC voor x aantal dagen liggen en uit de kolommen is op te halen welke dag dit is. Return dit array en zorg dat jouw functie ook werkt voor elke andere ligduur. Verwaarloos hierbij de dagen van voor de pandemie en tel door tot en met het aantal  ligdagen vanaf de laatste IC-admissie uit de dataset. \n",
    "\n",
    "Tip: Je kan np.roll() door een aantal nullen te plakken aan het array. Tel dan met een iteratie alle dagen bij elkaar op. Voeg dan bij elke iteratie het onlangs gemaakte 2d array toe aan het nieuwe array van de iteratie. \n",
    "\n",
    "Tip 2: Test jouw functie met een klein array.\n",
    "\n",
    "Het moet er zo uit komen te zien:\n",
    "<pre>\n",
    "array([[0, 0, 1, ..., 0, 0, 0],\n",
    "       [0, 0, 0, ..., 0, 0, 0],\n",
    "       [0, 0, 0, ..., 0, 0, 0],\n",
    "       ...,\n",
    "       [0, 0, 0, ..., 0, 0, 0],\n",
    "       [0, 0, 0, ..., 0, 0, 0],\n",
    "       [0, 0, 0, ..., 1, 0, 0]])\n",
    "</pre>"
   ]
  },
  {
   "cell_type": "code",
   "execution_count": 40,
   "metadata": {
    "nbgrader": {
     "grade": false,
     "grade_id": "cell-2be1ed6e929ca476",
     "locked": true,
     "schema_version": 1,
     "solution": false
    }
   },
   "outputs": [],
   "source": [
    "IC_json = json.loads(urlopen('https://data.rivm.nl/covid-19/COVID-19_ic_opnames.json').read())\n",
    "IC = np.array([int(x['IC_admission']) for x in IC_json])"
   ]
  },
  {
   "cell_type": "code",
   "execution_count": 41,
   "metadata": {
    "nbgrader": {
     "grade": false,
     "grade_id": "cell-eaf915736015ed79",
     "locked": false,
     "schema_version": 1,
     "solution": true
    }
   },
   "outputs": [
    {
     "data": {
      "text/plain": [
       "array([[ 0,  0,  1, ...,  0,  0,  0],\n",
       "       [ 0,  0,  0, ...,  0,  0,  0],\n",
       "       [ 0,  0,  0, ...,  0,  0,  0],\n",
       "       ...,\n",
       "       [ 0,  0,  0, ...,  0,  0,  0],\n",
       "       [ 0,  0,  0, ..., 12,  0,  0],\n",
       "       [ 0,  0,  0, ..., 13, 12,  0]])"
      ]
     },
     "execution_count": 41,
     "metadata": {},
     "output_type": "execute_result"
    }
   ],
   "source": [
    "def roll_to_array(ars, rolls):\n",
    "    ### BEGIN SOLUTION\n",
    "    zeros = np.zeros(rolls).astype(int)\n",
    "    ic_liggers = np.concatenate((ars,zeros))\n",
    "    old_result = False\n",
    "    for roll in range(1,rolls):\n",
    "        if old_result is False:\n",
    "            old_result = ic_liggers\n",
    "            result = np.roll(ic_liggers, roll)\n",
    "        else:\n",
    "            old_result = new_array\n",
    "            result = np.roll(ic_liggers, roll)\n",
    "        old_result = old_result.reshape(roll,len(result))\n",
    "        result = result.reshape(1,len(result))\n",
    "        new_array = np.concatenate((old_result,result))\n",
    "        ### END SOLUTION\n",
    "    return new_array\n",
    "\n",
    "rolled18 = roll_to_array(IC,18)\n",
    "rolled18"
   ]
  },
  {
   "cell_type": "code",
   "execution_count": 42,
   "metadata": {
    "nbgrader": {
     "grade": true,
     "grade_id": "cell-d9fc448e6afe3417",
     "locked": true,
     "points": 0,
     "schema_version": 1,
     "solution": false
    }
   },
   "outputs": [],
   "source": [
    "### TESTEN VOOR STUDENT\n",
    "assert isinstance(rolled18, np.ndarray)\n",
    "assert_equal(rolled18.sum(axis=0)[0], IC[0])\n",
    "assert IC.size+18==roll_to_array(IC,18).sum(axis=0).size"
   ]
  },
  {
   "cell_type": "code",
   "execution_count": 43,
   "metadata": {
    "nbgrader": {
     "grade": true,
     "grade_id": "cell-38f2c13418015e7f",
     "locked": true,
     "points": 2.5,
     "schema_version": 1,
     "solution": false
    }
   },
   "outputs": [],
   "source": [
    "### HIDDEN TESTS\n",
    "\n",
    "def MYroll_to_array(ars, rolls):\n",
    "    ### BEGIN SOLUTION\n",
    "    zeros = np.zeros(rolls).astype(int)\n",
    "    ic_liggers = np.concatenate((ars,zeros))\n",
    "    old_result = False\n",
    "    for roll in range(1,rolls):\n",
    "        if old_result is False:\n",
    "            old_result = ic_liggers\n",
    "            result = np.roll(ic_liggers, roll)\n",
    "        else:\n",
    "            old_result = new_array\n",
    "            result = np.roll(ic_liggers, roll)\n",
    "        old_result = old_result.reshape(roll,len(result))\n",
    "        result = result.reshape(1,len(result))\n",
    "        new_array = np.concatenate((old_result,result))\n",
    "        ### END SOLUTION\n",
    "    return new_array\n",
    "np.testing.assert_array_equal(rolled18,MYroll_to_array(IC, 18))\n",
    "assert_equal(rolled18.sum(),IC.sum()*18)\n",
    "\n",
    "### END HIDDEN TESTS"
   ]
  },
  {
   "cell_type": "markdown",
   "metadata": {
    "nbgrader": {
     "grade": false,
     "grade_id": "cell-1d459a7cbd5a01d6",
     "locked": true,
     "schema_version": 1,
     "solution": false
    }
   },
   "source": [
    "### np: Vraag 10 <a class='anchor' id='np10'></a>\n",
    " \n",
    "Maak deze vragen op basis van het array uit de vorige vraag en ga telkens uit van een ligduur van 18 dagen.\n",
    "\n",
    "A: Hoeveel IC-plekken zijn er op de drukste dag minder beschikbaar als patiënten twee keer zo lang op de IC zouden liggen? Return een integer.\n",
    "\n",
    "B: Wat is het gemiddelde van elk percentage IC-patiënten die op een dag opgenomen zijn van alle patiënten die op de IC liggen op die dag? Reken dit uit over de periode vanaf de eerste admissie tot en met de admissies van de laatste dag plus de 18 dagen dat zij er nog liggen. Rond af op twee decimalen.\n",
    "\n",
    "C: Hoeveel mensen lagen er op de laatste dag in de IC op 17 mei 2021 voordat op 18 mei de terrassen weer open gingen? Return een integer."
   ]
  },
  {
   "cell_type": "code",
   "execution_count": 44,
   "metadata": {
    "nbgrader": {
     "grade": false,
     "grade_id": "cell-048d8f54da2a8a6d",
     "locked": true,
     "schema_version": 1,
     "solution": false
    }
   },
   "outputs": [],
   "source": [
    "IC_met_dag = np.array([[int(x['IC_admission']),int(x['Date_of_statistics'].replace('-',''))] for x in IC_json])"
   ]
  },
  {
   "cell_type": "code",
   "execution_count": 45,
   "metadata": {
    "nbgrader": {
     "grade": false,
     "grade_id": "cell-aea839b33bb05f71",
     "locked": false,
     "schema_version": 1,
     "solution": true
    }
   },
   "outputs": [
    {
     "name": "stdout",
     "output_type": "stream",
     "text": [
      "602 6.102290332060624 50\n"
     ]
    },
    {
     "name": "stderr",
     "output_type": "stream",
     "text": [
      "C:\\Users\\jonas\\Anaconda3\\lib\\site-packages\\ipykernel_launcher.py:3: RuntimeWarning: invalid value encountered in true_divide\n",
      "  This is separate from the ipykernel package so we can avoid doing imports until\n"
     ]
    }
   ],
   "source": [
    "### BEGIN SOLUTION\n",
    "A_IC_plekken = np.max(roll_to_array(IC,32).sum(axis=0))-np.max(roll_to_array(IC,18).sum(axis=0))\n",
    "B_nieuwe_gezichten = float(100*(np.nanmean(MYroll_to_array(IC,18)[1,:]/MYroll_to_array(IC,18).sum(axis=0))))\n",
    "\n",
    "arg = np.argwhere(IC_met_dag[:,1] == 20210517)[0,0]\n",
    "C_nog_op_IC = rolled18[17,arg]\n",
    "### END SOLUTION\n",
    "print(A_IC_plekken,B_nieuwe_gezichten,C_nog_op_IC)"
   ]
  },
  {
   "cell_type": "code",
   "execution_count": 46,
   "metadata": {
    "nbgrader": {
     "grade": true,
     "grade_id": "cell-3123819e321fbc87",
     "locked": true,
     "points": 0,
     "schema_version": 1,
     "solution": false
    }
   },
   "outputs": [],
   "source": [
    "### TESTEN VOOR STUDENT\n",
    "assert isinstance(A_IC_plekken,int) or isinstance(A_IC_plekken,np.int32)\n",
    "assert isinstance(B_nieuwe_gezichten,float) or isinstance(B_nieuwe_gezichten, np.float32)\n",
    "assert isinstance(C_nog_op_IC, int) or isinstance(C_nog_op_IC,np.int32)"
   ]
  },
  {
   "cell_type": "code",
   "execution_count": 49,
   "metadata": {
    "nbgrader": {
     "grade": true,
     "grade_id": "cell-11c0cc01e2ca4b92",
     "locked": true,
     "points": 1,
     "schema_version": 1,
     "solution": false
    }
   },
   "outputs": [
    {
     "name": "stderr",
     "output_type": "stream",
     "text": [
      "C:\\Users\\jonas\\Anaconda3\\lib\\site-packages\\ipykernel_launcher.py:3: RuntimeWarning: invalid value encountered in true_divide\n",
      "  This is separate from the ipykernel package so we can avoid doing imports until\n"
     ]
    }
   ],
   "source": [
    "### HIDDEN TESTS\n",
    "MYA_IC_plekken = np.max(MYroll_to_array(IC,32).sum(axis=0))-np.max(MYroll_to_array(IC,18).sum(axis=0))\n",
    "MYB_nieuwe_gezichten = float(100*(np.nanmean(MYroll_to_array(IC,18)[1,:]/MYroll_to_array(IC,18).sum(axis=0))))\n",
    "MYC_nog_op_IC = MYroll_to_array(IC, 18)[17,np.argwhere(IC_met_dag[:,1] == 20210517)[0,0]]\n",
    "assert_equal(A_IC_plekken,MYA_IC_plekken)\n",
    "assert_equal(B_nieuwe_gezichten,MYB_nieuwe_gezichten)\n",
    "assert_equal(C_nog_op_IC,MYC_nog_op_IC)\n",
    "### END HIDDEN TESTS"
   ]
  },
  {
   "cell_type": "markdown",
   "metadata": {
    "nbgrader": {
     "grade": false,
     "grade_id": "cell-5a03d503525fbee1",
     "locked": true,
     "schema_version": 1,
     "solution": false
    }
   },
   "source": [
    "# Pandas <a class='anchor' id='pandas'></a>"
   ]
  },
  {
   "cell_type": "code",
   "execution_count": 50,
   "metadata": {
    "nbgrader": {
     "grade": false,
     "grade_id": "cell-4bcc0eff042a6dac",
     "locked": true,
     "schema_version": 1,
     "solution": false
    }
   },
   "outputs": [],
   "source": [
    "import os\n",
    "import re\n",
    "\n",
    "import json\n",
    "import codecs\n",
    "\n",
    "from datetime import datetime\n",
    "import matplotlib.pylab as plt\n",
    "import numpy as np\n",
    "import pandas as pd\n",
    "import seaborn as sns\n",
    "from nose.tools import assert_almost_equal, assert_equal\n",
    "from pandas.testing import assert_frame_equal\n",
    "\n",
    "from urllib.request import urlopen\n",
    "%matplotlib inline"
   ]
  },
  {
   "cell_type": "code",
   "execution_count": 51,
   "metadata": {
    "nbgrader": {
     "grade": false,
     "grade_id": "cell-68baa1b5671fc49b",
     "locked": true,
     "schema_version": 1,
     "solution": false
    }
   },
   "outputs": [],
   "source": [
    "def loadfile(file):\n",
    "    if  file == 'casus':\n",
    "        if 'COVID-19_casus_landelijk.csv' in os.listdir():\n",
    "            return 'COVID-19_casus_landelijk.csv'\n",
    "        elif os.path.exists('data/'):\n",
    "            return 'data/COVID-19_casus_landelijk.csv'\n",
    "    if file == 'uitgevoerde_testen':\n",
    "        if 'COVID-19_uitgevoerde_testen.csv' in os.listdir():\n",
    "            return 'COVID-19_uitgevoerde_testen.csv'\n",
    "        elif os.path.exists('data/'):\n",
    "            return 'data/COVID-19_uitgevoerde_testen.csv'\n",
    "    if file == 'gedrag':\n",
    "        if 'COVID-19_gedrag.csv' in os.listdir():\n",
    "            return 'COVID-19_gedrag.csv'\n",
    "        elif os.path.exists('data/'):\n",
    "            return 'data/COVID-19_gedrag.csv'\n",
    "    if file == 'ic_opnames':\n",
    "        if 'COVID-19_ic_opnames.csv' in os.listdir():\n",
    "            return 'COVID-19_ic_opnames.csv'\n",
    "        elif os.path.exists('data/'):\n",
    "            return 'data/COVID-19_ic_opnames.csv'\n",
    "    if file == 'COVID-19_ziekenhuis_ic_opnames_per_leeftijdsgroep':\n",
    "        if 'COVID-19_ziekenhuis_ic_opnames_per_leeftijdsgroep.csv' in os.listdir():\n",
    "            return 'COVID-19_ziekenhuis_ic_opnames_per_leeftijdsgroep.csv'\n",
    "        elif os.path.exists('data/'):\n",
    "            return 'data/COVID-19_ziekenhuis_ic_opnames_per_leeftijdsgroep.csv'        \n",
    "        "
   ]
  },
  {
   "cell_type": "markdown",
   "metadata": {
    "nbgrader": {
     "grade": false,
     "grade_id": "cell-0ec42aecbe31d689",
     "locked": true,
     "schema_version": 1,
     "solution": false
    }
   },
   "source": [
    "## Precisie op basis van prevalentie modelleren <a class='anchor' id='precisie'></a>\n",
    "### pd: Vraag 1 <a class='anchor' id='pd1'></a>\n",
    "Uit een onderzoek in samenwerking met het RIVM: [Bos, M. De interpretatie van een testuitslag bij COVID-19. Huisarts Wet 64, 48–50 (2021).](https://doi-org.vu-nl.idm.oclc.org/10.1007/s12445-021-1104-4)\n",
    "\n",
    "- Positief voorspellende waarde (PVW) = De kans dat iemand met een positieve test de ziekte echt heeft. (Precisie positief)\n",
    "\n",
    "- Negatief voorspellende waarde (NVW) = De kans dat iemand met een negatieve test de ziekte echt niet heeft. (Precisie negatief)\n",
    "\n",
    "Helaas zijn de PVW en de NVW van een test geen vaste waarden. Beide zijn in hoge mate afhankelijk van de voorafkans: de kans dat mensen die de test doen de ziekte ook daadwerkelijk hebben. Volgens het RIVM-artikel [Over de betrouwbaarheid van de PCR-test voor SARS-CoV-2](https://www.rivm.nl/sites/default/files/2020-12/Toelichting%20betrouwbaarheid%20PCR.pdf ) hangt deze kans af van:\n",
    "\n",
    "- De hoeveelheid SARS-COVID-19 in de luchtweg\n",
    "- Een juiste bemonstering\n",
    "- De mate van symptomen die aanwezig zijn  \n",
    "- Onlangse nabijheid van COVID-19 patiënten\n",
    "- De prevalentie / circulatie van het virus\n",
    "\n",
    "Een grote voorafkans heeft dus grote gevolgen voor de PWV en de NVW.\n",
    "\n",
    "Het toevoegen van testen van personen zonder symptomen en zonder direct contact met een COVID-19 patiënt verlaagd de voorafkans om geïnfecteerd te zijn drastisch en zal de prevalentie dus een grotere bijdrage geven aan de positief voorspellende waarde van de PCR-test; bij lage prevalentie zal dit dus resulteren in relatief meer fout-positieven. Omgekeerd sluit een negatieve test bij een lage prevalentie de aanwezigheid van COVID bijna uit.\n",
    "    - Op een piek van de bemsettingen was de PVW 11% en de NVW bijna 100% (neem 99.9%).\n",
    "    - In een dal van de bemsettingen was de PVW 98% en de NVW 97%.\n",
    "\n",
    "> Stel nu dat de PVW alléén afhangt van de prevalentie/circulatie van het virus. \n",
    ">\n",
    "Maak op basis van het (circulerende) aantal besmettelijke personen per maand een schatting van de PVW is voordat het toevoegen van testen van personen zonder symptomen van kracht ging. Doe dit door het logarimte van de aantallen besmettingen te interpoleren door middel van 'np.interp()'. Doe dit ook voor de NVW.\n",
    "\n",
    "Return een DataFrame met de besmettingen ('Circulatie'), de geschatte positief voorspellende waardes ('PVW_kans') en de geschatte negatief voorspellende waardes ('NVW_kans') als kolommen. Zorg dat je 'Dag' of 'Maand' als input waarde kan meegeven die vervolgens een dataframe genereert met 'Dag' of 'Maand' als indexnaam met integers als indexwaardes."
   ]
  },
  {
   "cell_type": "code",
   "execution_count": 53,
   "metadata": {
    "nbgrader": {
     "grade": false,
     "grade_id": "cell-d0438ea1494bd87e",
     "locked": false,
     "schema_version": 1,
     "solution": true
    }
   },
   "outputs": [
    {
     "data": {
      "text/html": [
       "<div>\n",
       "<style scoped>\n",
       "    .dataframe tbody tr th:only-of-type {\n",
       "        vertical-align: middle;\n",
       "    }\n",
       "\n",
       "    .dataframe tbody tr th {\n",
       "        vertical-align: top;\n",
       "    }\n",
       "\n",
       "    .dataframe thead th {\n",
       "        text-align: right;\n",
       "    }\n",
       "</style>\n",
       "<table border=\"1\" class=\"dataframe\">\n",
       "  <thead>\n",
       "    <tr style=\"text-align: right;\">\n",
       "      <th></th>\n",
       "      <th>Circulatie</th>\n",
       "      <th>PVW_kans</th>\n",
       "      <th>NVW_kans</th>\n",
       "    </tr>\n",
       "    <tr>\n",
       "      <th>Maand</th>\n",
       "      <th></th>\n",
       "      <th></th>\n",
       "      <th></th>\n",
       "    </tr>\n",
       "  </thead>\n",
       "  <tbody>\n",
       "    <tr>\n",
       "      <th>202002</th>\n",
       "      <td>4090.076923</td>\n",
       "      <td>0.110000</td>\n",
       "      <td>0.999000</td>\n",
       "    </tr>\n",
       "    <tr>\n",
       "      <th>202003</th>\n",
       "      <td>98158.129032</td>\n",
       "      <td>0.849613</td>\n",
       "      <td>0.974346</td>\n",
       "    </tr>\n",
       "    <tr>\n",
       "      <th>202004</th>\n",
       "      <td>64828.600000</td>\n",
       "      <td>0.753069</td>\n",
       "      <td>0.977564</td>\n",
       "    </tr>\n",
       "    <tr>\n",
       "      <th>202005</th>\n",
       "      <td>16884.741935</td>\n",
       "      <td>0.439972</td>\n",
       "      <td>0.988001</td>\n",
       "    </tr>\n",
       "    <tr>\n",
       "      <th>202006</th>\n",
       "      <td>4546.300000</td>\n",
       "      <td>0.134611</td>\n",
       "      <td>0.998180</td>\n",
       "    </tr>\n",
       "    <tr>\n",
       "      <th>202007</th>\n",
       "      <td>5546.387097</td>\n",
       "      <td>0.180885</td>\n",
       "      <td>0.996637</td>\n",
       "    </tr>\n",
       "    <tr>\n",
       "      <th>202008</th>\n",
       "      <td>12060.548387</td>\n",
       "      <td>0.361666</td>\n",
       "      <td>0.990611</td>\n",
       "    </tr>\n",
       "    <tr>\n",
       "      <th>202009</th>\n",
       "      <td>71098.066667</td>\n",
       "      <td>0.774553</td>\n",
       "      <td>0.976848</td>\n",
       "    </tr>\n",
       "    <tr>\n",
       "      <th>202010</th>\n",
       "      <td>147209.161290</td>\n",
       "      <td>0.943931</td>\n",
       "      <td>0.971202</td>\n",
       "    </tr>\n",
       "    <tr>\n",
       "      <th>202011</th>\n",
       "      <td>111436.633333</td>\n",
       "      <td>0.879140</td>\n",
       "      <td>0.973362</td>\n",
       "    </tr>\n",
       "    <tr>\n",
       "      <th>202012</th>\n",
       "      <td>137942.322581</td>\n",
       "      <td>0.928800</td>\n",
       "      <td>0.971707</td>\n",
       "    </tr>\n",
       "    <tr>\n",
       "      <th>202101</th>\n",
       "      <td>112815.548387</td>\n",
       "      <td>0.882002</td>\n",
       "      <td>0.973267</td>\n",
       "    </tr>\n",
       "    <tr>\n",
       "      <th>202102</th>\n",
       "      <td>95080.857143</td>\n",
       "      <td>0.842200</td>\n",
       "      <td>0.974593</td>\n",
       "    </tr>\n",
       "    <tr>\n",
       "      <th>202103</th>\n",
       "      <td>123903.806452</td>\n",
       "      <td>0.903821</td>\n",
       "      <td>0.972539</td>\n",
       "    </tr>\n",
       "    <tr>\n",
       "      <th>202104</th>\n",
       "      <td>171886.900000</td>\n",
       "      <td>0.980000</td>\n",
       "      <td>0.970000</td>\n",
       "    </tr>\n",
       "    <tr>\n",
       "      <th>202105</th>\n",
       "      <td>98397.645161</td>\n",
       "      <td>0.850180</td>\n",
       "      <td>0.974327</td>\n",
       "    </tr>\n",
       "    <tr>\n",
       "      <th>202106</th>\n",
       "      <td>26460.607143</td>\n",
       "      <td>0.544525</td>\n",
       "      <td>0.984516</td>\n",
       "    </tr>\n",
       "  </tbody>\n",
       "</table>\n",
       "</div>"
      ],
      "text/plain": [
       "           Circulatie  PVW_kans  NVW_kans\n",
       "Maand                                    \n",
       "202002    4090.076923  0.110000  0.999000\n",
       "202003   98158.129032  0.849613  0.974346\n",
       "202004   64828.600000  0.753069  0.977564\n",
       "202005   16884.741935  0.439972  0.988001\n",
       "202006    4546.300000  0.134611  0.998180\n",
       "202007    5546.387097  0.180885  0.996637\n",
       "202008   12060.548387  0.361666  0.990611\n",
       "202009   71098.066667  0.774553  0.976848\n",
       "202010  147209.161290  0.943931  0.971202\n",
       "202011  111436.633333  0.879140  0.973362\n",
       "202012  137942.322581  0.928800  0.971707\n",
       "202101  112815.548387  0.882002  0.973267\n",
       "202102   95080.857143  0.842200  0.974593\n",
       "202103  123903.806452  0.903821  0.972539\n",
       "202104  171886.900000  0.980000  0.970000\n",
       "202105   98397.645161  0.850180  0.974327\n",
       "202106   26460.607143  0.544525  0.984516"
      ]
     },
     "execution_count": 53,
     "metadata": {},
     "output_type": "execute_result"
    }
   ],
   "source": [
    "prevalentie = json.loads(urlopen('https://data.rivm.nl/covid-19/COVID-19_prevalentie.json').read())\n",
    "def prevelance_on_precision(prevalentie, period):\n",
    "    ### BEGIN SOLUTION\n",
    "    if period == 'Dag':\n",
    "        P_avg_day = np.array([[int(x['prev_avg']), int(x['Date'].replace('-',''))]  for x in prevalentie if len(x)>5])\n",
    "        periods = pd.DataFrame(P_avg_day,columns=['Circulatie',period]).set_index(period)\n",
    "    if period == 'Maand':\n",
    "        P_avg_month = np.array([[int(x['prev_avg']), int(x['Date'].replace('-','')[:6])]  for x in prevalentie if len(x)>5])\n",
    "        P_avg_pd = pd.DataFrame(P_avg_month,columns=['Circulatie',period])\n",
    "        periods = P_avg_pd.groupby([period]).mean() \n",
    "    if period != 'Dag' and period != 'Maand':\n",
    "        return 'Please insert Dag or Maand as input for period'\n",
    "    \n",
    "    values = np.log2(periods.values[:,0])\n",
    "    \n",
    "    numpy1 = np.interp(values, (values.min(), values.max()), (0.11, 0.98))\n",
    "    series1 = pd.Series(data=numpy1,index=periods.index,name='PVW_kans')\n",
    "    \n",
    "    numpy2 = np.interp(values, (values.min(), values.max()), (0.999, 0.97))\n",
    "    series2 = pd.Series(data=numpy2,index=periods.index,name='NVW_kans')\n",
    "    \n",
    "    merged = pd.merge(series1,series2,left_index=True,right_index=True)\n",
    "    output = pd.merge(periods,merged,left_index=True,right_index=True)\n",
    "    ### END SOLUTION\n",
    "    return output\n",
    "\n",
    "guessed_precision = prevelance_on_precision(prevalentie, 'Maand')\n",
    "guessed_precision"
   ]
  },
  {
   "cell_type": "code",
   "execution_count": 54,
   "metadata": {
    "nbgrader": {
     "grade": true,
     "grade_id": "cell-c0721b126487a8de",
     "locked": true,
     "points": 0,
     "schema_version": 1,
     "solution": false
    }
   },
   "outputs": [],
   "source": [
    "### TESTEN VOOR DE STUDENT\n",
    "assert isinstance(guessed_precision,pd.DataFrame)\n",
    "assert isinstance(guessed_precision.index[0],np.int64)\n",
    "assert((guessed_precision['PVW_kans'].min()>=0)and(guessed_precision['PVW_kans'].max()<=1))\n",
    "assert list(guessed_precision.columns) == ['Circulatie', 'PVW_kans', 'NVW_kans']"
   ]
  },
  {
   "cell_type": "code",
   "execution_count": 55,
   "metadata": {
    "nbgrader": {
     "grade": true,
     "grade_id": "cell-491e8ac38e57890b",
     "locked": true,
     "points": 1,
     "schema_version": 1,
     "solution": false
    }
   },
   "outputs": [],
   "source": [
    "prevalentie = json.loads(urlopen('https://data.rivm.nl/covid-19/COVID-19_prevalentie.json').read())\n",
    "def MYprevelance_on_precision(prevalentie,period):\n",
    "    ### BEGIN SOLUTION\n",
    "    if period == 'Dag':\n",
    "        P_avg_day = np.array([[int(x['prev_avg']), int(x['Date'].replace('-',''))]  for x in prevalentie if len(x)>5])\n",
    "        periods = pd.DataFrame(P_avg_day,columns=['Circulatie',period]).set_index(period)\n",
    "    if period == 'Maand':\n",
    "        P_avg_month = np.array([[int(x['prev_avg']), int(x['Date'].replace('-','')[:6])]  for x in prevalentie if len(x)>5])\n",
    "        P_avg_pd = pd.DataFrame(P_avg_month,columns=['Circulatie',period])\n",
    "        periods = P_avg_pd.groupby([period]).mean() \n",
    "    if period != 'Dag' and period != 'Maand':\n",
    "        return 'Please insert Dag or Maand as input for period'\n",
    "    \n",
    "    values = np.log2(periods.values[:,0])\n",
    "    \n",
    "    numpy1 = np.interp(values, (values.min(), values.max()), (0.11, 0.98))\n",
    "    series1 = pd.Series(data=numpy1,index=periods.index,name='PVW_kans')\n",
    "    \n",
    "    numpy2 = np.interp(values, (values.min(), values.max()), (0.999, 0.97))\n",
    "    series2 = pd.Series(data=numpy2,index=periods.index,name='NVW_kans')\n",
    "    \n",
    "    merged = pd.merge(series1,series2,left_index=True,right_index=True)\n",
    "    output = pd.merge(periods,merged,left_index=True,right_index=True)\n",
    "    ### END SOLUTION\n",
    "    return output\n",
    "MYguessed_precision = MYprevelance_on_precision(prevalentie,'Maand')\n",
    "pd.testing.assert_frame_equal(prevelance_on_precision(prevalentie,'Maand'),MYprevelance_on_precision(prevalentie,'Maand'),check_names=False,check_dtype=False)"
   ]
  },
  {
   "cell_type": "code",
   "execution_count": 56,
   "metadata": {
    "nbgrader": {
     "grade": true,
     "grade_id": "cell-e785ffcf04b6dbaa",
     "locked": true,
     "points": 1,
     "schema_version": 1,
     "solution": false
    }
   },
   "outputs": [],
   "source": [
    "### BEGIN HIDDEN TESTS\n",
    "np.testing.assert_array_almost_equal(prevelance_on_precision(prevalentie,'Dag'),MYprevelance_on_precision(prevalentie,'Dag'))\n",
    "### END HIDDEN TESTS"
   ]
  },
  {
   "cell_type": "markdown",
   "metadata": {
    "nbgrader": {
     "grade": false,
     "grade_id": "cell-3a6a244689e4e7b5",
     "locked": true,
     "schema_version": 1,
     "solution": false
    }
   },
   "source": [
    "### pd: Vraag 2 <a class='anchor' id='pd2'></a>\n",
    "Bereken op basis van de geschatte precisie per maand, en het dataframe van de uitgevoerde testen het aantal True/False Positives en True/False Negatives voor alle maanden. Neem de kolom 'Tested_with_result', 'Tested_positive' en 'Tested_negative' mee en voeg hier de kolomnamen 'TP', 'FP', 'TN' en 'FN' aan toe. Return een dataframe met de geschatte waardes als floats; er wordt bij het plotten pas afgerond voor het schatten van het aantal testen. *Rond niet af in dit tentamen tenzij dit wordt aangegeven.*"
   ]
  },
  {
   "cell_type": "code",
   "execution_count": 57,
   "metadata": {
    "nbgrader": {
     "grade": false,
     "grade_id": "cell-5d386429beb5db9e",
     "locked": false,
     "schema_version": 1,
     "solution": true
    }
   },
   "outputs": [
    {
     "data": {
      "text/plain": [
       "<matplotlib.axes._subplots.AxesSubplot at 0x1b6cf583710>"
      ]
     },
     "execution_count": 57,
     "metadata": {},
     "output_type": "execute_result"
    },
    {
     "data": {
      "image/png": "[encoded data removed]",
      "text/plain": [
       "<Figure size 432x288 with 1 Axes>"
      ]
     },
     "metadata": {
      "needs_background": "light"
     },
     "output_type": "display_data"
    }
   ],
   "source": [
    "uitgevoerde_testen = pd.read_csv(loadfile('uitgevoerde_testen'), sep=';')\n",
    "\n",
    "def FPvsFN(uitgevoerde_testen,guessed_precision):\n",
    "    ### BEGIN SOLUTION\n",
    "    uitgevoerde_testen['Date_of_statistics'] = uitgevoerde_testen['Date_of_statistics'].str.replace('-','').str[:6].astype(int)\n",
    "    months = uitgevoerde_testen.groupby(['Date_of_statistics'])[['Tested_with_result','Tested_positive']].sum()\n",
    "    months['Tested_negative'] = months['Tested_with_result']-months['Tested_positive']\n",
    "    testen = pd.merge(months,guessed_precision, left_index=True,right_index=True)\n",
    "    testen['TP'] = testen['Tested_positive']*testen['PVW_kans']\n",
    "    testen['FP'] = testen['Tested_positive']-testen['TP']\n",
    "    testen['TN'] = testen['Tested_negative']*testen['NVW_kans']\n",
    "    testen['FN'] = testen['Tested_negative']-testen['TN']\n",
    "    testen = testen[['Tested_with_result','Tested_positive','Tested_negative','TP', 'FP', 'TN', 'FN']]\n",
    "    ### END SOLUTION\n",
    "    return testen\n",
    "\n",
    "valse_testen = FPvsFN(uitgevoerde_testen,guessed_precision)\n",
    "valse_testen[['FP','FN']].astype(int).plot(kind='bar',ylabel='Aantal testen',xlabel='Jaar en maand (in one integer)',title='Aantal fout positieve en fout negatieve testen over hele coronaperiode op basis van geschatte precisie.')"
   ]
  },
  {
   "cell_type": "code",
   "execution_count": 58,
   "metadata": {
    "nbgrader": {
     "grade": true,
     "grade_id": "cell-b4d2eab7c630f9ef",
     "locked": true,
     "points": 0,
     "schema_version": 1,
     "solution": false
    }
   },
   "outputs": [],
   "source": [
    "### TESTEN VOOR STUDENTEN\n",
    "assert isinstance(valse_testen,pd.DataFrame)\n",
    "assert isinstance(valse_testen['TP'].loc[202006],float)\n",
    "assert list(valse_testen.columns) == list(['Tested_with_result','Tested_positive','Tested_negative','TP', 'FP', 'TN', 'FN'])\n",
    "def netjesoptellen(valse_testen):\n",
    "    tests = valse_testen.copy()\n",
    "    tests['TP+FN'] = tests['TP']+tests['FN'] \n",
    "    tests['FP+TN'] = tests['FP']+tests['TN']\n",
    "    tests['FP+TN+TP+FN'] = tests['TP+FN'] + tests['FP+TN'] \n",
    "    tellen_netjes_op = tests['FP+TN+TP+FN'].corr(valse_testen['Tested_with_result']) \n",
    "    return assert_almost_equal(tellen_netjes_op,1)\n",
    "    \n",
    "netjesoptellen(valse_testen)"
   ]
  },
  {
   "cell_type": "code",
   "execution_count": 59,
   "metadata": {
    "nbgrader": {
     "grade": true,
     "grade_id": "cell-31fe503460cbf0a1",
     "locked": true,
     "points": 1.5,
     "schema_version": 1,
     "solution": false
    }
   },
   "outputs": [],
   "source": [
    "### BEGIN HIDDEN TESTS\n",
    "uitgevoerde_testen = pd.read_csv(loadfile('uitgevoerde_testen'), sep=';')\n",
    "\n",
    "def MYFPvsFN(uitgevoerde_testen,MYguessed_precision):\n",
    "    uitgevoerde_testen['Date_of_statistics'] = uitgevoerde_testen['Date_of_statistics'].str.replace('-','').str[:6].astype(int)\n",
    "    months = uitgevoerde_testen.groupby(['Date_of_statistics'])[['Tested_with_result','Tested_positive']].sum()\n",
    "    months['Tested_negative'] = months['Tested_with_result']-months['Tested_positive']\n",
    "    testen = pd.merge(months,MYguessed_precision, left_index=True,right_index=True)\n",
    "    testen['TP'] = testen['Tested_positive']*testen['PVW_kans']\n",
    "    testen['FP'] = testen['Tested_positive']-testen['TP']\n",
    "    testen['TN'] = testen['Tested_negative']*testen['NVW_kans']\n",
    "    testen['FN'] = testen['Tested_negative']-testen['TN']\n",
    "    testen = testen[['Tested_with_result','Tested_positive','Tested_negative','TP', 'FP', 'TN', 'FN']]\n",
    "    return testen\n",
    "MYvalse_testen = MYFPvsFN(uitgevoerde_testen,MYguessed_precision)\n",
    "pd.testing.assert_frame_equal(valse_testen,MYvalse_testen)\n",
    "### END HIDDEN TESTS"
   ]
  },
  {
   "cell_type": "markdown",
   "metadata": {
    "nbgrader": {
     "grade": false,
     "grade_id": "cell-cc80ec326bf9820b",
     "locked": true,
     "schema_version": 1,
     "solution": false
    }
   },
   "source": [
    "## Sensitiviteit en specificiteit <a class='anchor' id='sensitiviteit'></a>\n",
    "### pd: Vraag 3 <a class='anchor' id='pd3'></a>\n",
    "Onderzoek in samenwerking met het RIVM: \n",
    "\n",
    "<i> Bos, M. De interpretatie van een testuitslag bij COVID-19. Huisarts Wet 64, 48–50 (2021). https://doi-org.vu-nl.idm.oclc.org/10.1007/s12445-021-1104-4 </i>. \n",
    "\n",
    "- In dit onderzoek wordt voorzichtig aangehaald dat een PCR test een <b>sensitiviteit</b> heeft van ongeveer <b>88%</b> (recall), ofwel de waarschijnlijkheid dat de PCR-test positief is als de geteste persoon COVID-19 heeft.\n",
    "\\begin{equation}\n",
    "Sensitivity = \\frac{T P}{T P + F N}\n",
    "\\end{equation}\n",
    "\n",
    "\n",
    "- Ook wordt genoemd dat een PCR test een <b>specificiteit</b> heeft van ongeveer <b>99,5%</b>, ofwel de waarschijnlijkheid dat de PCR-test negatief is als de geteste persoon geen COVID-19 heeft.\n",
    "\\begin{equation}\n",
    "Specificity = \\frac{T N}{T N + F P}\n",
    "\\end{equation}\n",
    "\n",
    "> Test met deze gegevens het model uit de vorige vraag:\n",
    "\n",
    "    A: Geef het verschil tussen de gemiddelde sensititviteit berekend met de waardes ontstaan uit het model en de sensitiviteit uit het onderzoek.\n",
    "\n",
    "    B: Geef het verschil tussen de gemiddelde specificiteit berekend met de waardes ontstaan uit het model en de specificiteit uit het onderzoek. \n",
    "\n",
    "    C: Geef op basis van enkel het PVW model (gebruik hiervoor dus de waardes van sensitiviteit en specificiteit uit onderzoek) de correlatie tussen het verkregen aantal negatief getesten personen uit het model en het gegeven aantal negatief geteste personen van het RIVM.\n",
    "\n",
    "    D: Geef op basis van enkel het NVW model (gebruik hiervoor dus de waardes van sensitiviteit en specificiteit uit onderzoek) de correlatie tussen het verkregen aantal positief getesten personen uit het model en het gegeven aantal positief geteste personen van het RIVM.\n",
    "\n",
    "Return floats tussen 0 en 1 in de variabelen: A, B, C en D."
   ]
  },
  {
   "cell_type": "code",
   "execution_count": 61,
   "metadata": {
    "nbgrader": {
     "grade": false,
     "grade_id": "cell-d2ed377d8c19d0e4",
     "locked": false,
     "schema_version": 1,
     "solution": true
    },
    "scrolled": true
   },
   "outputs": [
    {
     "name": "stdout",
     "output_type": "stream",
     "text": [
      "0.17345273736550737 0.008983230612582771 0.3951877779662031 0.9202009110255008\n"
     ]
    }
   ],
   "source": [
    "### BEGIN SOLUTION\n",
    "\n",
    "uitgevoerde_testen = pd.read_csv(loadfile('uitgevoerde_testen'), sep=';')\n",
    "testen = FPvsFN(uitgevoerde_testen,guessed_precision)\n",
    "\n",
    "## gebruikt gehele model\n",
    "testen['Sensitivity'] = testen['TP']/(testen['TP']+testen['FN']) # to check model\n",
    "testen['Specificity'] = testen['TN']/(testen['TN']+testen['FP']) # to check model\n",
    "\n",
    "A = abs(testen['Sensitivity'].mean()-0.88)\n",
    "B = abs(testen['Specificity'].mean()-0.995)\n",
    "\n",
    "## gebruikt alleen PVW uit model\n",
    "testen['FN_with_sensitivity_on_PVW'] = (testen['TP']/0.88)-testen['TP'] # in order to check with Tested_negative\n",
    "testen['TN_with_specificity_on_PVW'] = (testen['FP']/0.995)/(1-0.995) # in order to check with Tested_negative\n",
    "testen['FN+TN_with_sensspec_on_PVW'] = testen['FN_with_sensitivity_on_PVW']+testen['TN_with_specificity_on_PVW'] # to check with Tested_negative\n",
    "\n",
    "C = testen['Tested_negative'].corr(testen['FN+TN_with_sensspec_on_PVW'])\n",
    "\n",
    "## gebruikt alleen NVW uit model\n",
    "testen['FP_with_sensitivity_on_NVW'] = (testen['TN']/0.88)-testen['TN'] # in order to check with Tested_positive\n",
    "testen['TP_with_specificity_on_NVW'] = (testen['FN']/0.995)/(1-0.995) # in order to check with Tested_positive\n",
    "testen['FP+TP_with_sensspec_on_NVW'] = testen['FP_with_sensitivity_on_NVW']+testen['TP_with_specificity_on_NVW'] # to check with Tested_positive\n",
    "\n",
    "D = testen['Tested_positive'].corr(testen['FP+TP_with_sensspec_on_NVW'])\n",
    "### END SOLTUTION\n",
    "print(A,B,C,D)"
   ]
  },
  {
   "cell_type": "code",
   "execution_count": 62,
   "metadata": {
    "nbgrader": {
     "grade": true,
     "grade_id": "cell-becc1478f8156f87",
     "locked": true,
     "points": 0,
     "schema_version": 1,
     "solution": false
    }
   },
   "outputs": [],
   "source": [
    "### TESTEN VOOR STUDENT\n",
    "for x in [A,B,C,D]:\n",
    "    assert isinstance(x,float)\n",
    "    assert (x<1 and x>0)"
   ]
  },
  {
   "cell_type": "code",
   "execution_count": 63,
   "metadata": {
    "nbgrader": {
     "grade": true,
     "grade_id": "cell-519616d600a6da16",
     "locked": true,
     "points": 1,
     "schema_version": 1,
     "solution": false
    }
   },
   "outputs": [],
   "source": [
    "### BEGIN HIDDEN TESTS\n",
    "\n",
    "uitgevoerde_testen = pd.read_csv(loadfile('uitgevoerde_testen'), sep=';')\n",
    "MYtesten = MYFPvsFN(uitgevoerde_testen,MYguessed_precision)\n",
    "\n",
    "## gebruikt gehele model\n",
    "MYtesten['Sensitivity'] = MYtesten['TP']/(MYtesten['TP']+MYtesten['FN']) # to check model\n",
    "MYtesten['Specificity'] = MYtesten['TN']/(MYtesten['TN']+MYtesten['FP']) # to check model\n",
    "\n",
    "MYA = abs(MYtesten['Sensitivity'].mean()-0.88)\n",
    "MYB = abs(MYtesten['Specificity'].mean()-0.995)\n",
    "\n",
    "assert_almost_equal(A,MYA)\n",
    "assert_almost_equal(B,MYB)\n",
    "\n",
    "### END HIDDEN TESTS"
   ]
  },
  {
   "cell_type": "code",
   "execution_count": 64,
   "metadata": {
    "nbgrader": {
     "grade": true,
     "grade_id": "cell-615cc3420dd563a5",
     "locked": true,
     "points": 1,
     "schema_version": 1,
     "solution": false
    }
   },
   "outputs": [],
   "source": [
    "### BEGIN HIDDEN TESTS\n",
    "\n",
    "## gebruikt alleen PVW uit model\n",
    "MYtesten['FN_with_sensitivity_on_PVW'] = (MYtesten['TP']/0.88)-MYtesten['TP'] # in order to check with Tested_negative\n",
    "MYtesten['TN_with_specificity_on_PVW'] = (MYtesten['FP']/0.995)/(1-0.995) # in order to check with Tested_negative\n",
    "MYtesten['FN+TN_with_sensspec_on_PVW'] = MYtesten['FN_with_sensitivity_on_PVW']+MYtesten['TN_with_specificity_on_PVW'] # to check with Tested_negative\n",
    "\n",
    "MYC = MYtesten['Tested_negative'].corr(MYtesten['FN+TN_with_sensspec_on_PVW'])\n",
    "assert_almost_equal(C,MYC)\n",
    "### END HIDDEN TESTS"
   ]
  },
  {
   "cell_type": "code",
   "execution_count": 65,
   "metadata": {
    "nbgrader": {
     "grade": true,
     "grade_id": "cell-ababdc5fb3e859c2",
     "locked": true,
     "points": 1,
     "schema_version": 1,
     "solution": false
    }
   },
   "outputs": [],
   "source": [
    "### BEGIN HIDDEN TESTS\n",
    "\n",
    "## gebruikt alleen NVW uit model\n",
    "MYtesten['FP_with_sensitivity_on_NVW'] = (MYtesten['TN']/0.88)-MYtesten['TN'] # in order to check with Tested_positive\n",
    "MYtesten['TP_with_specificity_on_NVW'] = (MYtesten['FN']/0.995)/(1-0.995) # in order to check with Tested_positive\n",
    "MYtesten['FP+TP_with_sensspec_on_NVW'] = MYtesten['FP_with_sensitivity_on_NVW']+MYtesten['TP_with_specificity_on_NVW'] # to check with Tested_positive\n",
    "\n",
    "MYD = MYtesten['Tested_positive'].corr(MYtesten['FP+TP_with_sensspec_on_NVW'])\n",
    "assert_almost_equal(D,MYD)\n",
    "\n",
    "### END HIDDEN TESTS"
   ]
  },
  {
   "cell_type": "markdown",
   "metadata": {
    "nbgrader": {
     "grade": false,
     "grade_id": "cell-d532ee8371e92375",
     "locked": true,
     "schema_version": 1,
     "solution": false
    }
   },
   "source": [
    "## Bemonstering voorbereiding <a class='anchor' id='bem'></a>\n",
    "### pd: Vraag 4 <a class='anchor' id='pd4'></a>\n",
    "Return een Series met de precisie per dag in de functie calculate_precisions(prevalentie). Bereken dit op basis van de functie prevelance_on_precision(prevalentie, 'Dag'). (De precisiewaarden in de PVW_kans kolom uit vraag 1 hoeven niet te kloppen om het goed te hebben.) \n",
    "\n",
    "Return ook een Dataframe met het aantal positieve testen per beveiligingsregio (in kolom) per dag (in index) met de functie calculate_positives(uitgevoerde_testen).\n",
    "\n",
    "Maak ze klaar om ze in de volgende vraag samen te voegen en zorg dat de index waardes in pd.datetime staan."
   ]
  },
  {
   "cell_type": "code",
   "execution_count": 66,
   "metadata": {
    "nbgrader": {
     "grade": false,
     "grade_id": "cell-2e749a14f66fed25",
     "locked": false,
     "schema_version": 1,
     "solution": true
    }
   },
   "outputs": [],
   "source": [
    "def calculate_precisions(prevalentie):\n",
    "    ### BEGIN SOLUTION\n",
    "    geschatte_prec_per_dag = prevelance_on_precision(prevalentie, 'Dag')['PVW_kans']\n",
    "    geschatte_prec_per_dag.index = pd.to_datetime(geschatte_prec_per_dag.index.astype(str))\n",
    "    ### END SOLUTION\n",
    "    return geschatte_prec_per_dag\n",
    "precisions = calculate_precisions(prevalentie)\n",
    "\n",
    "uitgevoerde_testen = pd.read_csv(loadfile('uitgevoerde_testen'), sep=';')\n",
    "def calculate_positives(uitgevoerde_testen):\n",
    "    ### BEGIN SOLUTION\n",
    "    Pos_per_regio = pd.pivot_table(uitgevoerde_testen,index='Date_of_statistics',columns='Security_region_name',values='Tested_positive',aggfunc='sum')\n",
    "    Pos_per_regio.index = pd.to_datetime(Pos_per_regio.index)\n",
    "    ### END SOLUTION\n",
    "    return Pos_per_regio\n",
    "positives = calculate_positives(uitgevoerde_testen)\n"
   ]
  },
  {
   "cell_type": "code",
   "execution_count": 67,
   "metadata": {
    "nbgrader": {
     "grade": true,
     "grade_id": "cell-a8cd3fcbb2d3b127",
     "locked": true,
     "points": 0,
     "schema_version": 1,
     "solution": false
    }
   },
   "outputs": [
    {
     "name": "stderr",
     "output_type": "stream",
     "text": [
      "C:\\Users\\jonas\\Anaconda3\\lib\\site-packages\\ipykernel_launcher.py:4: FutureWarning: The pandas.datetime class is deprecated and will be removed from pandas in a future version. Import from datetime module instead.\n",
      "  after removing the cwd from sys.path.\n",
      "C:\\Users\\jonas\\Anaconda3\\lib\\site-packages\\ipykernel_launcher.py:5: FutureWarning: The pandas.datetime class is deprecated and will be removed from pandas in a future version. Import from datetime module instead.\n",
      "  \"\"\"\n"
     ]
    }
   ],
   "source": [
    "### TESTEN VOOR STUDENTEN\n",
    "assert isinstance(calculate_precisions(prevalentie), pd.Series)\n",
    "assert isinstance(calculate_positives(uitgevoerde_testen), pd.DataFrame)\n",
    "assert isinstance(calculate_precisions(prevalentie).index[0], pd.datetime)\n",
    "assert isinstance(calculate_positives(uitgevoerde_testen).index[0], pd.datetime)\n",
    "assert positives.columns.size == 26"
   ]
  },
  {
   "cell_type": "code",
   "execution_count": 68,
   "metadata": {
    "nbgrader": {
     "grade": true,
     "grade_id": "cell-6c78ee07067c0b26",
     "locked": true,
     "points": 1,
     "schema_version": 1,
     "solution": false
    }
   },
   "outputs": [],
   "source": [
    "### BEGIN HIDDEN TESTS\n",
    "def MYcalculate_precisions(prevalentie):\n",
    "    ### BEGIN SOLUTION\n",
    "    geschatte_prec_per_dag = MYprevelance_on_precision(prevalentie, 'Dag')['PVW_kans']\n",
    "    geschatte_prec_per_dag.index = pd.to_datetime(geschatte_prec_per_dag.index.astype(str))\n",
    "    ### END SOLUTION\n",
    "    return geschatte_prec_per_dag\n",
    "MYprecisions = MYcalculate_precisions(prevalentie)\n",
    "\n",
    "def MYmaybe_calculate_precisions(prevalentie):\n",
    "    ### BEGIN SOLUTION\n",
    "    geschatte_prec_per_dag = prevelance_on_precision(prevalentie, 'Dag')['PVW_kans']\n",
    "    geschatte_prec_per_dag.index = pd.to_datetime(geschatte_prec_per_dag.index.astype(str))\n",
    "    ### END SOLUTION\n",
    "    return geschatte_prec_per_dag\n",
    "MYmaybe_precisions = MYmaybe_calculate_precisions(prevalentie)\n",
    "\n",
    "uitgevoerde_testen = pd.read_csv(loadfile('uitgevoerde_testen'), sep=';')\n",
    "def MYcalculate_positives(uitgevoerde_testen):\n",
    "    ### BEGIN SOLUTION\n",
    "    Pos_per_regio = pd.pivot_table(uitgevoerde_testen,index='Date_of_statistics',columns='Security_region_name',values='Tested_positive',aggfunc='sum')\n",
    "    Pos_per_regio.index = pd.to_datetime(Pos_per_regio.index)\n",
    "    ### END SOLUTION\n",
    "    return Pos_per_regio\n",
    "MYpositives = MYcalculate_positives(uitgevoerde_testen)\n",
    "\n",
    "assert pd.DataFrame.equals(MYmaybe_precisions,calculate_precisions(prevalentie)) or pd.DataFrame.equals(MYprecisions,calculate_precisions(prevalentie)) \n",
    "\n",
    "pd.testing.assert_frame_equal(MYpositives,calculate_positives(uitgevoerde_testen))\n",
    "\n",
    "### END HIDDEN TESTS"
   ]
  },
  {
   "cell_type": "markdown",
   "metadata": {
    "nbgrader": {
     "grade": false,
     "grade_id": "cell-8b7413f73dee646a",
     "locked": true,
     "schema_version": 1,
     "solution": false
    }
   },
   "source": [
    "## Effecten bemonstering <a class='anchor' id='bemonstering'></a>\n",
    "\n",
    "### pd: Vraag 5 <a class='anchor' id='pd5'></a>\n",
    "Uit het onderzoek, [Frazee, B. W., de la Guardia, A. R. H., Alter, H., Chen, C. G., Fuentes, E. L., Holzer, A. K., ... & Dekker, C. L. (2018). Accuracy and discomfort of different types of intranasal specimen collection methods for molecular influenza testing in emergency department patients. Annals of emergency medicine, 71(4), 509-517.](https://www.sciencedirect.com/science/article/abs/pii/S0196064417316591?casa_token=ByVSxoDjtKgAAAAA:GRKCvgLxVevhX5WjyHPG0cdObnHYw1Qa9FbmpCvIrXRaFZU5xxyZQxbhW2aBS0EXPKwhpR5kJQY), blijkt dat de volgende waardes gelden voor een influenza-achtige ziekte vegeleken met NPS als referentie standaard:\n",
    "\n",
    "<img src=\"https://i.imgur.com/uGCWNZq.jpg\" width=\"300\" height=\"200\" />\n",
    "\n",
    "- Voor het midturbinale uitstrijkje (MTS): een sensitiviteit van 98%, en een specificiteit van 98.5%. \n",
    "- Voor het neuswat uitstrijkje (NS): een sensitiviteit van 84.4%, en een specificiteit van 99.1%.\n",
    "\n",
    "Maak een DatFrame met hoeveel minder geïnfecteerden per regio een positieve COVID-uitslag zouden hebben als bij elke PCR-test van het RIVM het wattenstaafje niet in de diepe nasopharynx neuswat (NPS), maar in de midturbinale neuswat (MTS) of in de neuswat (MS) wordt afgenomen. Maak hier twee kolommen voor genaamd MTS en NS. Bereken dit op basis van de twee gemaakte dataframes uit de vraag 4 (de precisiewaarden uit vraag 1 hoeven niet te kloppen). Ga uit dat het RIVM altijd een bemonstering doet in de NPS en neem de onderzoeksgegevens van vraag 3 mee voor de berekening. Jouw functie moet werken voor zowel het verschil tussen NPS en MTS én het verschil tussen NPS en NS door deze afkortingen als strings mee te geven in de functie. Sorteer per gemeente het aantal minder vals positieve gevallen van groot naar klein."
   ]
  },
  {
   "cell_type": "code",
   "execution_count": 69,
   "metadata": {
    "nbgrader": {
     "grade": false,
     "grade_id": "cell-36cda07f34dfd3c1",
     "locked": false,
     "schema_version": 1,
     "solution": true
    }
   },
   "outputs": [
    {
     "data": {
      "text/plain": [
       "<matplotlib.axes._subplots.AxesSubplot at 0x1b6d1834898>"
      ]
     },
     "execution_count": 69,
     "metadata": {},
     "output_type": "execute_result"
    },
    {
     "data": {
      "image/png": "[encoded data removed]",
      "text/plain": [
       "<Figure size 432x288 with 1 Axes>"
      ]
     },
     "metadata": {
      "needs_background": "light"
     },
     "output_type": "display_data"
    }
   ],
   "source": [
    "def minder_per_dag(precisions,positives,neuswat):\n",
    "    ### BEGIN SOLUTION\n",
    "    positives_precisions = pd.merge(precisions,positives,left_index=True,right_index=True,how='right')\n",
    "    for col in positives_precisions.columns[1:]:\n",
    "        TP = positives_precisions[col]*positives_precisions['PVW_kans']\n",
    "        FN_NPS = (TP/(0.88))-TP \n",
    "        if neuswat == 'MTS':\n",
    "            FN_MTS = (TP/(0.88*0.98))-TP # sensivity PCR-test (uit onderzoek van vraag 3) keer 0.98 MTS (NPS = 100%)\n",
    "            positives_precisions[col] = FN_MTS - FN_NPS\n",
    "        if neuswat == 'NS':\n",
    "            FN_NS = (TP/(0.88*0.885))-TP # sensivity PCR-test (uit onderzoek van vraag 3) keer 0.885 NS (NPS = 100%)\n",
    "            positives_precisions[col] = FN_NS - FN_NPS\n",
    "        if neuswat != 'MTS' and neuswat != 'NS':\n",
    "            return 'Geef MTS of NS als waarde mee.'\n",
    "    output = positives_precisions.iloc[:,1:]\n",
    "    ### END SOLUTION\n",
    "    return output\n",
    "\n",
    "def top_regions(precisions,positives,neuswat):\n",
    "    ### BEGIN SOLUTION\n",
    "    minder_gevallen_dag = minder_per_dag(precisions,positives, neuswat)\n",
    "    minder_gevallen_regio = minder_gevallen_dag.sum(axis=0).sort_values(ascending=False).astype(int)\n",
    "    ### END SOLUTION\n",
    "    return minder_gevallen_regio.rename(neuswat)\n",
    "\n",
    "minder_gespot_MTS = top_regions(precisions,positives,'MTS')\n",
    "minder_gespot_NS = top_regions(precisions,positives,'NS')\n",
    "\n",
    "MTS_en_NS = pd.merge(minder_gespot_MTS,minder_gespot_NS,left_index=True,right_index=True)\n",
    "MTS_en_NS.plot(kind='bar',ylabel='Geïnfecteerden',xlabel='Beveiligingsregio',title='Aantal minder geïnfecteerden die positief zijn getest per beveiligingsregio bij aanpassing wijze van bemonstering.')"
   ]
  },
  {
   "cell_type": "code",
   "execution_count": 70,
   "metadata": {
    "nbgrader": {
     "grade": true,
     "grade_id": "cell-30546479bf339002",
     "locked": true,
     "points": 0,
     "schema_version": 1,
     "solution": false
    }
   },
   "outputs": [],
   "source": [
    "### TESTEN VOOR DE STUDENT\n",
    "assert isinstance(MTS_en_NS,pd.DataFrame)\n",
    "assert list(MTS_en_NS.columns)==['MTS', 'NS']\n",
    "assert np.all(MTS_en_NS)>0\n",
    "assert type(MTS_en_NS.iloc[0,0])==np.int32\n",
    "assert type(MTS_en_NS.index[0])==str\n",
    "assert 'Onbekend' in set(MTS_en_NS.index)"
   ]
  },
  {
   "cell_type": "code",
   "execution_count": 71,
   "metadata": {
    "nbgrader": {
     "grade": true,
     "grade_id": "cell-184c2a16185bb0b3",
     "locked": true,
     "points": 2,
     "schema_version": 1,
     "solution": false
    }
   },
   "outputs": [],
   "source": [
    "### BEGIN HIDDEN TESTS\n",
    "def MYminder_per_dag(MYprecisions,MYpositives,neuswat):\n",
    "    positives_precisions = pd.merge(MYprecisions,MYpositives,left_index=True,right_index=True,how='right')\n",
    "    for col in positives_precisions.columns[1:]:\n",
    "        TP = positives_precisions[col]*positives_precisions['PVW_kans']\n",
    "        FN_NPS = (TP/(0.88))-TP \n",
    "        if neuswat == 'MTS':\n",
    "            FN_MTS = (TP/(0.88*0.98))-TP # sensivity PCR-test (uit onderzoek van vraag 3) keer 0.98 MTS (NPS = 100%)\n",
    "            positives_precisions[col] = FN_MTS - FN_NPS\n",
    "        if neuswat == 'NS':\n",
    "            FN_NS = (TP/(0.88*0.885))-TP # sensivity PCR-test (uit onderzoek van vraag 3) keer 0.885 NS (NPS = 100%)\n",
    "            positives_precisions[col] = FN_NS - FN_NPS\n",
    "        if neuswat != 'MTS' and neuswat != 'NS':\n",
    "            return 'Geef MTS of NS als waarde mee.'\n",
    "    output = positives_precisions.iloc[:,1:]\n",
    "    return output\n",
    "\n",
    "def MYtop_regions(MYprecisions,MYpositives, neuswat):\n",
    "    minder_gevallen_dag = minder_per_dag(MYprecisions,MYpositives, neuswat)\n",
    "    minder_gevallen_regio = minder_gevallen_dag.sum(axis=0).sort_values(ascending=False).astype(int)\n",
    "    return minder_gevallen_regio.rename(neuswat)\n",
    "\n",
    "MYminder_gespot_MTS = top_regions(MYprecisions,MYpositives,'MTS')\n",
    "MYminder_gespot_NS = top_regions(MYprecisions,MYpositives,'NS')\n",
    "\n",
    "MYmaybe_minder_gespot_MTS = top_regions(MYmaybe_precisions,MYpositives,'MTS')\n",
    "MYmaybe_minder_gespot_NS = top_regions(MYmaybe_precisions,MYpositives,'NS')\n",
    "\n",
    "MYMTS_en_NS = pd.merge(minder_gespot_MTS,minder_gespot_NS,left_index=True,right_index=True)\n",
    "MYmaybe_MTS_en_NS = pd.merge(MYmaybe_minder_gespot_MTS,MYmaybe_minder_gespot_NS,left_index=True,right_index=True)\n",
    "\n",
    "assert pd.DataFrame.equals(MYMTS_en_NS,MTS_en_NS) or pd.DataFrame.equals(MYmaybe_MTS_en_NS,MTS_en_NS)\n",
    "### END HIDDEN TESTS"
   ]
  },
  {
   "cell_type": "markdown",
   "metadata": {
    "nbgrader": {
     "grade": false,
     "grade_id": "cell-3e134dc3ffd22346",
     "locked": true,
     "schema_version": 1,
     "solution": false
    }
   },
   "source": [
    "### pd Vraag 6: <a class='anchor' id='pd6'></a>\n",
    "Hoeveel mensen zijn er in totaal per regio na 7 dagen besmet als alle mensen die een vals positieve test hadden (vanwege een MTS test) niet in quarentaine zijn gegaan na hun test? Reken dit eerst uit voor elke dag en elke regio, tel alles op het laatst pas op. \n",
    "\n",
    "Het doel is om te zien hoeveel gevallen er in de héle coronaperiode bij zijn gekomen in elke regio, doordat <b> elke dag </b> een aantal personen een nieuwe keten van besmettingen (cluster) hebben opgestart die na 7 dagen (plotseling) ophield. (Ervan uitgaande dat degene die zij hebben aangestoken allemaal gingen testen, wel een True Positive hadden, en in volledige isolatie doken of dan wel naar het ziekenhuis gingen.)\n",
    "\n",
    "Reken eerst E en p uit in jouw functie contact_of_kans_besmetting(gedrag,indicatorcategorie) voor elke dag en elke regio. Tip: Roep minder_per_dag() in jouw functie op om de juiste index waardes te krijgen:\n",
    "\n",
    "- E: Kijk voor het gemiddeld aantal personen er regio waarmee de respondent in contact komt, in hoeverre deze alle maatregelen heeft naleefd volgens het gedragsonderzoek van het RIVM. Neem aan dat alle maatregelen precies even veel invloed uitoefenen om in contact te komen met personen. Ga standaard uit van een minimum voor de eerste dag: gemiddeld huishouden van 2.1 personen (voor de eerste dag). Als alle regels strict worden nageleefd ziet de patiënt maximaal 3 personen buiten het huishouden per dag. Ga ervan uit dat als alle regels strict worden nageleefd, een persoon 100% zou scoren op het onderzoek. En als een persoon de helft zo scoren, deze in contact komt met het dubbele van het maximum. Zorg dat steeds het laatst gerapporteerde onderzoek geldt voor de desbetreffende dag.\n",
    "\n",
    "- p: Kijk voor de kans op besmetting naar hoeveel procent van de respondenten per regio minstens één corona gerelateerde klacht had per dag. Zorg dat steeds het laatst gerapporteerde onderzoek geldt voor de desbetreffende dag.\n",
    "\n",
    "Pak vervolgens het aantal besmettingen op een dag uit minder_per_dag() en pas hier onderstaande functie op toe met de gemaakte dataframe contact en kans_op_besmetting. \n",
    "\n",
    "Maak eerst een dataframe met als waardes het aantal mensen dat over de periode van de 7 opvolgende dagen wordt besmet van die dag en regio. Return vervolgens een Series met het totaal besmettingen per regio als int waardes.\n",
    "\n",
    "<img src=https://i.imgur.com/coCv64n.jpg width=300 hight=200> [Bron foto](https://multimedia.tijd.be/coronaroute/)."
   ]
  },
  {
   "cell_type": "code",
   "execution_count": 72,
   "metadata": {
    "nbgrader": {
     "grade": false,
     "grade_id": "cell-611fc61c32281060",
     "locked": false,
     "schema_version": 1,
     "solution": true
    }
   },
   "outputs": [
    {
     "data": {
      "text/plain": [
       "<matplotlib.axes._subplots.AxesSubplot at 0x1b6d19ba320>"
      ]
     },
     "execution_count": 72,
     "metadata": {},
     "output_type": "execute_result"
    },
    {
     "data": {
      "image/png": "[encoded data removed]",
      "text/plain": [
       "<Figure size 432x288 with 1 Axes>"
      ]
     },
     "metadata": {
      "needs_background": "light"
     },
     "output_type": "display_data"
    }
   ],
   "source": [
    "gedrag = pd.read_csv(loadfile('gedrag'),delimiter=';').rename(columns={'Date_of_measurement':'Date'})\n",
    "\n",
    "def contact_of_kans_besmetting(gedrag,indicatorcategorie):\n",
    "    if indicatorcategorie != 'Naleving' and indicatorcategorie != 'Klachten':\n",
    "        return 'Please fill in Naleving or Klachten'\n",
    "    nieuwe_gevallen = minder_per_dag(precisions,positives,'MTS')\n",
    "    indexen = nieuwe_gevallen.index\n",
    "\n",
    "    naleving_alle = gedrag[(gedrag['Indicator_category']==indicatorcategorie)&(gedrag['Region_name']!='Nederland')]\n",
    "    kans_op_besmetting = pd.pivot_table(naleving_alle,index='Date',columns='Region_name',values='Value')\n",
    "    kans_op_besmetting.index = pd.to_datetime(kans_op_besmetting.index)\n",
    "    \n",
    "    for idx in indexen:\n",
    "        if idx not in kans_op_besmetting.index:\n",
    "            kans_op_besmetting.loc[idx,:]=np.nan\n",
    "    kans = (kans_op_besmetting.sort_index().fillna(method='ffill')/100)\n",
    "    return kans\n",
    "\n",
    "\n",
    "def keting_besmetting(gedrag,methode,evoluties):\n",
    "    nieuwe_gevallen = minder_per_dag(precisions,positives,methode)\n",
    "    kans_besmetting = contact_of_kans_besmetting(gedrag,'Klachten')   \n",
    "    for i in range(0,evoluties+1):\n",
    "        if i==0:\n",
    "            contact = (1/contact_of_kans_besmetting(gedrag,'Naleving'))*5.1\n",
    "        else:\n",
    "            contact = (1/contact_of_kans_besmetting(gedrag,'Naleving'))*3\n",
    "        old = nieuwe_gevallen\n",
    "        evolutie = contact*kans_besmetting*nieuwe_gevallen  \n",
    "        if i != 0:\n",
    "            nieuwe_gevallen = evolutie+old\n",
    "        else:\n",
    "            nieuwe_gevallen = evolutie\n",
    "    totaal = nieuwe_gevallen.sum(axis=0).astype(int)\n",
    "    return totaal\n",
    "\n",
    "totaal = keting_besmetting(gedrag,'MTS',7)\n",
    "totaal.sort_values(ascending=False).plot(kind='bar',xlabel='Regio',ylabel='Aantal kettingbesmettingen',title='Aantal ongezien meer besmettingen door testmethode MTS die zich (pas) na 7 dagen gemanifesteerd hebben, genomen over gehele coronaperiode.')"
   ]
  },
  {
   "cell_type": "code",
   "execution_count": 73,
   "metadata": {
    "nbgrader": {
     "grade": true,
     "grade_id": "cell-47dcefaba4f03ba2",
     "locked": true,
     "points": 0,
     "schema_version": 1,
     "solution": false
    }
   },
   "outputs": [],
   "source": [
    "### TESTEN VOOR DE STUDENT\n",
    "assert isinstance(totaal,pd.Series)\n",
    "assert isinstance(totaal[0],np.int32)\n",
    "assert isinstance(totaal.index[0],str)\n",
    "assert contact_of_kans_besmetting(gedrag,'Naleving').shape == (385,25)\n",
    "assert (set(minder_per_dag(precisions,positives,'MTS').columns) - set(contact_of_kans_besmetting(gedrag,'Naleving').columns))=={'Onbekend'}\n",
    "assert set(minder_per_dag(precisions,positives,'MTS').index) == set(contact_of_kans_besmetting(gedrag,'Naleving').index)\n"
   ]
  },
  {
   "cell_type": "code",
   "execution_count": 74,
   "metadata": {
    "nbgrader": {
     "grade": true,
     "grade_id": "cell-ad07174bcfdaf479",
     "locked": true,
     "points": 1,
     "schema_version": 1,
     "solution": false
    }
   },
   "outputs": [],
   "source": [
    "### BEGIN HIDDEN TESTS\n",
    "\n",
    "gedrag = pd.read_csv(loadfile('gedrag'),delimiter=';').rename(columns={'Date_of_measurement':'Date'})\n",
    "\n",
    "def MYcontact_of_kans_besmetting(gedrag,indicatorcategorie):\n",
    "    if indicatorcategorie != 'Naleving' and indicatorcategorie != 'Klachten':\n",
    "        return 'Please fill in Naleving or Klachten'\n",
    "    nieuwe_gevallen = minder_per_dag(MYprecisions,MYpositives,'MTS')\n",
    "    indexen = nieuwe_gevallen.index\n",
    "\n",
    "    naleving_alle = gedrag[(gedrag['Indicator_category']==indicatorcategorie)&(gedrag['Region_name']!='Nederland')]\n",
    "    kans_op_besmetting = pd.pivot_table(naleving_alle,index='Date',columns='Region_name',values='Value')\n",
    "    kans_op_besmetting.index = pd.to_datetime(kans_op_besmetting.index)\n",
    "    # voegt indexen uit andere tabel toe\n",
    "    for idx in indexen:\n",
    "        if idx not in kans_op_besmetting.index:\n",
    "            kans_op_besmetting.loc[idx,:]=np.nan\n",
    "    kans = (kans_op_besmetting.sort_index().fillna(method='ffill')/100)\n",
    "    return kans\n",
    "\n",
    "\n",
    "def MYketing_besmetting(gedrag,methode,evoluties):\n",
    "    nieuwe_gevallen = minder_per_dag(MYprecisions,MYpositives,methode) ## neemt deze waardes ook mee\n",
    "    kans_besmetting = MYcontact_of_kans_besmetting(gedrag,'Klachten')   \n",
    "    for i in range(0,evoluties+1):\n",
    "        if i==0:\n",
    "            contact = (1/contact_of_kans_besmetting(gedrag,'Naleving'))*5.1\n",
    "        else:\n",
    "            contact = (1/contact_of_kans_besmetting(gedrag,'Naleving'))*3\n",
    "        old = nieuwe_gevallen\n",
    "        evolutie = contact*kans_besmetting*nieuwe_gevallen  \n",
    "        if i != 0:\n",
    "            nieuwe_gevallen = evolutie+old\n",
    "        else:\n",
    "            nieuwe_gevallen = evolutie\n",
    "    totaal = nieuwe_gevallen.sum(axis=0).astype(int)\n",
    "    return totaal\n",
    "\n",
    "def MYmaybe_keting_besmetting(gedrag,methode,evoluties):\n",
    "    nieuwe_gevallen = minder_per_dag(MYmaybe_precisions,MYpositives,methode) ## neemt deze waardes ook mee\n",
    "    kans_besmetting = MYcontact_of_kans_besmetting(gedrag,'Klachten')\n",
    "    for i in range(0,evoluties+1):\n",
    "        if i==0:\n",
    "            contact = (1/MYcontact_of_kans_besmetting(gedrag,'Naleving'))*5.1\n",
    "        else:\n",
    "            contact = (1/MYcontact_of_kans_besmetting(gedrag,'Naleving'))*3\n",
    "        old = nieuwe_gevallen\n",
    "        evolutie = contact*kans_besmetting*nieuwe_gevallen  \n",
    "        if i != 0:\n",
    "            nieuwe_gevallen = evolutie+old\n",
    "        else:\n",
    "            nieuwe_gevallen = evolutie\n",
    "    totaal = nieuwe_gevallen.sum(axis=0).astype(int)\n",
    "    return totaal\n",
    "\n",
    "\n",
    "pd.testing.assert_frame_equal(contact_of_kans_besmetting(gedrag,'Naleving'),MYcontact_of_kans_besmetting(gedrag,'Naleving'),check_names=False,check_dtype=False)\n",
    "pd.testing.assert_frame_equal(contact_of_kans_besmetting(gedrag,'Klachten'),MYcontact_of_kans_besmetting(gedrag,'Klachten'),check_names=False,check_dtype=False)\n",
    "\n",
    "### END HIDDEN TESTS"
   ]
  },
  {
   "cell_type": "code",
   "execution_count": 75,
   "metadata": {
    "nbgrader": {
     "grade": true,
     "grade_id": "cell-22fc7d448ab96446",
     "locked": true,
     "points": 2,
     "schema_version": 1,
     "solution": false
    }
   },
   "outputs": [],
   "source": [
    "### BEGIN HIDDEN TESTS\n",
    "MYtotaal = MYketing_besmetting(gedrag,'MTS',7)\n",
    "MYmaybe_totaal = MYmaybe_keting_besmetting(gedrag,'MTS',7)\n",
    "\n",
    "assert pd.DataFrame.equals(MYtotaal,totaal) or pd.DataFrame.equals(totaal,MYmaybe_totaal)\n",
    "### END HIDDEN TESTS"
   ]
  },
  {
   "cell_type": "markdown",
   "metadata": {
    "nbgrader": {
     "grade": false,
     "grade_id": "cell-47b51b3f0d17762c",
     "locked": true,
     "schema_version": 1,
     "solution": false
    }
   },
   "source": [
    "## Gedragsonderzoek <a class='anchor' id='gedrag'></a>\n",
    "### pd: Vraag 7 <a class='anchor' id='pd7'></a>\n",
    "Maak een tabel waar per leeftijdsgroep te zien is hoeveel mensen in de IC liggen die meer dan het maximum aantal bezoekers hebben ontvangen volgens het representatieve onderzoek van het RIVM. Zorg dat je uit de dataset van 'IC-opnames per leeftijdsgroep' de leeftijdsgroepen omrekent overeenkomend naar de leeftijsgroepen uit de gedragsdataset d.m.v. mapping. Ga ervan uit dat de meting van het gedrag die in een bepaalde maand is afgenomen voor die hele maand geldt en neem het gemiddelde percentage als er meer dan twee metingen zijn gedaan in één maand. Zorg dat elke datum naar 'datetime' is omgezet."
   ]
  },
  {
   "cell_type": "code",
   "execution_count": 76,
   "metadata": {
    "nbgrader": {
     "grade": true,
     "grade_id": "cell-2a8bcc0fea526fbb",
     "locked": true,
     "points": 2,
     "schema_version": 1,
     "solution": false
    }
   },
   "outputs": [
    {
     "name": "stderr",
     "output_type": "stream",
     "text": [
      "C:\\Users\\jonas\\Anaconda3\\lib\\site-packages\\ipykernel_launcher.py:12: SettingWithCopyWarning: \n",
      "A value is trying to be set on a copy of a slice from a DataFrame.\n",
      "Try using .loc[row_indexer,col_indexer] = value instead\n",
      "\n",
      "See the caveats in the documentation: https://pandas.pydata.org/pandas-docs/stable/user_guide/indexing.html#returning-a-view-versus-a-copy\n",
      "  if sys.path[0] == '':\n"
     ]
    },
    {
     "data": {
      "text/plain": [
       "<matplotlib.axes._subplots.AxesSubplot at 0x1b6cf366b38>"
      ]
     },
     "execution_count": 76,
     "metadata": {},
     "output_type": "execute_result"
    },
    {
     "data": {
      "image/png": "[encoded data removed]",
      "text/plain": [
       "<Figure size 432x288 with 1 Axes>"
      ]
     },
     "metadata": {
      "needs_background": "light"
     },
     "output_type": "display_data"
    }
   ],
   "source": [
    "gedrag = pd.read_csv(loadfile('gedrag'),delimiter=';').rename(columns={'Date_of_measurement':'Date'})\n",
    "ic_leeftijd = pd.read_csv(loadfile('COVID-19_ziekenhuis_ic_opnames_per_leeftijdsgroep'),delimiter=';').rename(columns={'Date_of_statistics_week_start':'Date'})\n",
    "\n",
    "def bereken_nalevers_op_ic(gedrag,ic_leeftijd):\n",
    "    ### BEGIN SOLUTION\n",
    "    naleving = gedrag[gedrag['Indicator_category']=='Naleving']\n",
    "    gedragsonderzoek = naleving[naleving['Subgroup_category']=='Leeftijd']\n",
    "    \n",
    "    # map leeftijden uit ic_opnames naar leeftijden uit gedragsonderzoek\n",
    "    ic_opnames = ic_leeftijd[ic_leeftijd['Age_group'] != 'Unknown'] \n",
    "    mapping = map_age_groups(gedrag,ic_opnames) \n",
    "    ic_opnames['Age_group'] = ic_opnames['Age_group'].map(mapping)\n",
    "    \n",
    "    mensen_op_ic = ic_opnames.groupby(['Date','Age_group'])['IC_admission'].sum().unstack()\n",
    "    mensen_op_ic.index = pd.to_datetime(mensen_op_ic.index)\n",
    "    mensen_op_ic = mensen_op_ic.groupby(by=[mensen_op_ic.index.year,mensen_op_ic.index.month]).sum()\n",
    "\n",
    "    ontvangt_max_bezoekers_thuis = gedragsonderzoek[gedragsonderzoek['Indicator']=='Ontvang_max_bezoekers_thuis']\n",
    "    max_bezoekers_thuis= pd.pivot_table(ontvangt_max_bezoekers_thuis,index='Date',columns='Subgroup',values='Value',aggfunc='mean')\n",
    "    max_bezoekers_thuis.index = pd.to_datetime(max_bezoekers_thuis.index)\n",
    "    bezoekers_naleving = max_bezoekers_thuis.groupby(by=[max_bezoekers_thuis.index.year,max_bezoekers_thuis.index.month]).mean()\n",
    "    mensen_op_ic_nageleeft = (((100-bezoekers_naleving)/100)*mensen_op_ic).dropna()\n",
    "    ### END SOLUTION\n",
    "    return mensen_op_ic_nageleeft.dropna()\n",
    "\n",
    "def map_age_groups(gedrag,ic_leeftijd):\n",
    "        ### BEGIN SOLUTION\n",
    "        mapping = dict()\n",
    "        age_groups = list(set(gedrag[gedrag['Subgroup_category']=='Leeftijd']['Subgroup']))\n",
    "        age_groups_ic = list(set(ic_leeftijd['Age_group']))\n",
    "        for x in age_groups:\n",
    "            interval = x.replace('+','-99').split('-')\n",
    "            down = interval[0]\n",
    "            up = interval[1]\n",
    "            for y in age_groups_ic:\n",
    "                stuk = y.replace('+','-99').split('-')\n",
    "                stuk_down = stuk[0]\n",
    "                stuk_up = stuk[1]\n",
    "                if stuk_down >= down and stuk_up <= up:\n",
    "                    mapping[y] = x\n",
    "        ### END SOLUTION\n",
    "        return mapping\n",
    "    \n",
    "nalevers = bereken_nalevers_op_ic(gedrag,ic_leeftijd)\n",
    "nalevers.astype(int).plot(kind='bar',xlabel='(Jaar, Maand)',ylabel='Aantal patiënten',\n",
    "              title='IC-patiënten per leeftijdsgroep die meer dan het maxiumum aantal bezoekers hebben ontvangen.')"
   ]
  },
  {
   "cell_type": "code",
   "execution_count": 77,
   "metadata": {
    "nbgrader": {
     "grade": true,
     "grade_id": "cell-1caf782d55f01445",
     "locked": true,
     "points": 0,
     "schema_version": 1,
     "solution": false
    }
   },
   "outputs": [],
   "source": [
    "### TESTEN VOOR STUDENT\n",
    "assert isinstance(nalevers,pd.DataFrame)\n",
    "assert set(nalevers.columns) == set(['16-24', '25-39', '40-54', '55-69', '70+'])\n",
    "assert type(nalevers.index)==pd.MultiIndex"
   ]
  },
  {
   "cell_type": "code",
   "execution_count": 78,
   "metadata": {
    "nbgrader": {
     "grade": true,
     "grade_id": "cell-bc4e4ed2f0c33c4a",
     "locked": true,
     "points": 2.5,
     "schema_version": 1,
     "solution": false
    }
   },
   "outputs": [
    {
     "name": "stderr",
     "output_type": "stream",
     "text": [
      "C:\\Users\\jonas\\Anaconda3\\lib\\site-packages\\pandas\\core\\indexing.py:1676: SettingWithCopyWarning: \n",
      "A value is trying to be set on a copy of a slice from a DataFrame.\n",
      "Try using .loc[row_indexer,col_indexer] = value instead\n",
      "\n",
      "See the caveats in the documentation: https://pandas.pydata.org/pandas-docs/stable/user_guide/indexing.html#returning-a-view-versus-a-copy\n",
      "  self._setitem_single_column(ilocs[0], value, pi)\n"
     ]
    }
   ],
   "source": [
    "gedrag = pd.read_csv(loadfile('gedrag'),delimiter=';').rename(columns={'Date_of_measurement':'Date'})\n",
    "ic_leeftijd = pd.read_csv(loadfile('COVID-19_ziekenhuis_ic_opnames_per_leeftijdsgroep'),delimiter=';').rename(columns={'Date_of_statistics_week_start':'Date'})\n",
    "\n",
    "### BEGIN HIDDEN TESTS\n",
    "def MYbereken_nalevers_op_ic(gedrag,ic_leeftijd):\n",
    "    naleving = gedrag[gedrag['Indicator_category']=='Naleving']\n",
    "    gedragsonderzoek = naleving[naleving['Subgroup_category']=='Leeftijd']\n",
    "    \n",
    "    # map leeftijden uit ic_opnames naar leeftijden uit gedragsonderzoek\n",
    "    ic_opnames = ic_leeftijd[ic_leeftijd['Age_group'] != 'Unknown'] \n",
    "    mapping = MYmap_age_groups(gedrag,ic_opnames) \n",
    "    ic_opnames.loc[:,'Age_group']= ic_opnames.loc[:,'Age_group'].map(mapping)\n",
    "    mensen_op_ic = ic_opnames.groupby(['Date','Age_group'])['IC_admission'].sum().unstack()\n",
    "    mensen_op_ic.index = pd.to_datetime(mensen_op_ic.index)\n",
    "    mensen_op_ic = mensen_op_ic.groupby(by=[mensen_op_ic.index.year,mensen_op_ic.index.month]).sum()\n",
    "\n",
    "    ontvangt_max_bezoekers_thuis = gedragsonderzoek[gedragsonderzoek['Indicator']=='Ontvang_max_bezoekers_thuis']\n",
    "    max_bezoekers_thuis= pd.pivot_table(ontvangt_max_bezoekers_thuis,index='Date',columns='Subgroup',values='Value',aggfunc='mean')\n",
    "    max_bezoekers_thuis.index = pd.to_datetime(max_bezoekers_thuis.index)\n",
    "    bezoekers_naleving = max_bezoekers_thuis.groupby(by=[max_bezoekers_thuis.index.year,max_bezoekers_thuis.index.month]).mean()\n",
    "    mensen_op_ic_nageleeft = (((100-bezoekers_naleving)/100)*mensen_op_ic).dropna()\n",
    "    return mensen_op_ic_nageleeft.dropna()\n",
    "\n",
    "def MYmap_age_groups(gedrag,ic_leeftijd):\n",
    "        mapping = dict()\n",
    "        age_groups = list(set(gedrag[gedrag['Subgroup_category']=='Leeftijd']['Subgroup']))\n",
    "        age_groups_ic = list(set(ic_leeftijd['Age_group']))\n",
    "        for x in age_groups:\n",
    "            interval = x.replace('+','-99').split('-')\n",
    "            down = interval[0]\n",
    "            up = interval[1]\n",
    "            for y in age_groups_ic:\n",
    "                stuk = y.replace('+','-99').split('-')\n",
    "                stuk_down = stuk[0]\n",
    "                stuk_up = stuk[1]\n",
    "                if stuk_down >= down and stuk_up <= up:\n",
    "                    mapping[y] = x\n",
    "        return mapping\n",
    "    \n",
    "MYnalevers = MYbereken_nalevers_op_ic(gedrag,ic_leeftijd)\n",
    "\n",
    "pd.testing.assert_frame_equal(nalevers,MYnalevers,check_dtype=False)"
   ]
  },
  {
   "cell_type": "markdown",
   "metadata": {
    "nbgrader": {
     "grade": false,
     "grade_id": "cell-9f6eadd8b30235d1",
     "locked": true,
     "schema_version": 1,
     "solution": false
    }
   },
   "source": [
    "## Teststraat <a class='anchor' id='teststraat'></a>\n",
    "### pd Vraag 8: <a class='anchor' id='pd8'></a>\n",
    "Er komt veel bij kijken bij het opzetten van een teststraat. Zo is niet ieder pand hier geschikt voor. [Het opzetten kan zelfs 8 weken duren in sommige gevallen.](https://ggdghor.nl/actueel-bericht/er-komt-veel-kijken-bij-het-opzetten-van-een-teststraat/)\n",
    "\n",
    "Geef per beveiligingsregio het aantal dagen voordat zij erin slagen om meer dan de helft van hun testen af te nemen die zij in n weken tijd gaan afnemen. Return een series met de namen van de regio's en het aantal dagen geordend van klein naar groot."
   ]
  },
  {
   "cell_type": "code",
   "execution_count": 79,
   "metadata": {
    "nbgrader": {
     "grade": true,
     "grade_id": "cell-eb756adcaa2938b4",
     "locked": true,
     "points": 1.5,
     "schema_version": 1,
     "solution": false
    }
   },
   "outputs": [
    {
     "data": {
      "text/plain": [
       "<matplotlib.axes._subplots.AxesSubplot at 0x1b6d18437b8>"
      ]
     },
     "execution_count": 79,
     "metadata": {},
     "output_type": "execute_result"
    },
    {
     "data": {
      "image/png": "[encoded data removed]",
      "text/plain": [
       "<Figure size 432x288 with 1 Axes>"
      ]
     },
     "metadata": {
      "needs_background": "light"
     },
     "output_type": "display_data"
    }
   ],
   "source": [
    "uitgevoerde_testen = pd.read_csv(loadfile('uitgevoerde_testen'), sep=';')\n",
    "def snelle_opzetters(uitgevoerde_testen,n):\n",
    "    ### BEGIN SOLUTION\n",
    "    uitgevoerde_testen['Date_statistics'] = uitgevoerde_testen['Date_of_statistics'].str.replace('-','').astype(int)\n",
    "    regions = pd.pivot_table(uitgevoerde_testen,index=['Security_region_name'],columns=['Date_of_statistics'],values=['Tested_with_result','Tested_positive'],aggfunc='sum')\n",
    "    testen_hele_periode = regions['Tested_with_result'].T\n",
    "    testen_hele_periode.index = pd.to_datetime(testen_hele_periode.index)\n",
    "    first_ten_weeks = testen_hele_periode[:7*n] #8 weken\n",
    "    voltooide_testen_percentage=(first_ten_weeks.cumsum(axis=0)/first_ten_weeks.sum(axis=0))*100\n",
    "    # aantal dagen dat het niet lukt plus 1\n",
    "    aantal_dagen_geslaagd = voltooide_testen_percentage[voltooide_testen_percentage>50].isnull().sum(axis=0)+1\n",
    "    snelle_regions = aantal_dagen_geslaagd.sort_values(ascending=True)\n",
    "    ### END SOLUTION\n",
    "    return snelle_regions\n",
    "\n",
    "snelle_regions = snelle_opzetters(uitgevoerde_testen,8)\n",
    "snelle_regions.plot(kind='bar',ylabel='Dagen',title='Aantal dagen helft van de testen afgerond binnen n weken.')"
   ]
  },
  {
   "cell_type": "code",
   "execution_count": 80,
   "metadata": {
    "nbgrader": {
     "grade": true,
     "grade_id": "cell-ffbd197e941ec135",
     "locked": true,
     "points": 0,
     "schema_version": 1,
     "solution": false
    }
   },
   "outputs": [],
   "source": [
    "### TESTEN VOOR DE STUDENT\n",
    "assert isinstance(snelle_regions,pd.Series)\n",
    "assert (snelle_regions.size==26)\n",
    "assert type(snelle_regions.index[0])==str"
   ]
  },
  {
   "cell_type": "code",
   "execution_count": 81,
   "metadata": {
    "nbgrader": {
     "grade": true,
     "grade_id": "cell-b53f8f3cd73e7ef7",
     "locked": true,
     "points": 1.5,
     "schema_version": 1,
     "solution": false
    }
   },
   "outputs": [],
   "source": [
    "### BEGIN HIDDEN TESTS\n",
    "MYuitgevoerde_testen = pd.read_csv(loadfile('uitgevoerde_testen'), sep=';')\n",
    "def MYsnelle_opzetters(MYuitgevoerde_testen,n):\n",
    "    ### BEGIN SOLUTION\n",
    "    uitgevoerde_testen['Date_statistics'] = MYuitgevoerde_testen['Date_of_statistics'].str.replace('-','').astype(int)\n",
    "    regions = pd.pivot_table(uitgevoerde_testen,index=['Security_region_name'],columns=['Date_of_statistics'],values=['Tested_with_result','Tested_positive'],aggfunc='sum')\n",
    "    testen_hele_periode = regions['Tested_with_result'].T\n",
    "    testen_hele_periode.index = pd.to_datetime(testen_hele_periode.index)\n",
    "    first_ten_weeks = testen_hele_periode[:7*n] #8 weken\n",
    "    voltooide_testen_percentage=(first_ten_weeks.cumsum(axis=0)/first_ten_weeks.sum(axis=0))*100\n",
    "    # aantal dagen dat het niet lukt plus 1\n",
    "    aantal_dagen_geslaagd = voltooide_testen_percentage[voltooide_testen_percentage>50].isnull().sum(axis=0)+1\n",
    "    snelle_regions = aantal_dagen_geslaagd.sort_values(ascending=True)\n",
    "    ### END SOLUTION\n",
    "    return snelle_regions\n",
    "\n",
    "MYsnelle_regions = MYsnelle_opzetters(MYuitgevoerde_testen,8)\n",
    "pd.testing.assert_series_equal(snelle_regions,MYsnelle_regions,check_names=False,check_dtype=False)\n",
    "### END HIDDEN TESTS"
   ]
  },
  {
   "cell_type": "markdown",
   "metadata": {
    "nbgrader": {
     "grade": false,
     "grade_id": "cell-00399058ae24f4b5",
     "locked": true,
     "schema_version": 1,
     "solution": false
    }
   },
   "source": [
    "## Gedragsonderzoek <a class='anchor' id='gedrag2'></a>\n",
    "### pd Vraag 9: <a class='anchor' id='pd9'></a>\n",
    "Maak voor de n jongste en de n oudste leeftijdsgroepen een dataframe waar het percentage aantal ziekenhuisopnames relatief te zien is over het totale aantal ziekenhuisopnames van die leeftijdsgroep. Zorg dat je in de rijen het aantal weken in 2021 hebt (start vaccinatie) van het laatste rapport minus de laatste 5 weken, omdat dan alleen verwerkte data wordt meegenomen. Haal de leeftijdsgroep 'Unknown' eruit, maar zorg dat je verder geen string waardes intikt om tot de juiste leeftijdsgroepen te komen bij het filteren. Doe dit ook zonder pd.merge(). Jouw functie pak_leeftijdsgroepen(percentage_leeftijd) zou ook op een ander dataframe moeten werken om daar de eerste drie en laatste drie kolommen uit te pakken."
   ]
  },
  {
   "cell_type": "code",
   "execution_count": 82,
   "metadata": {
    "nbgrader": {
     "grade": false,
     "grade_id": "cell-cc67de73bb309de1",
     "locked": false,
     "schema_version": 1,
     "solution": true
    }
   },
   "outputs": [
    {
     "data": {
      "text/plain": [
       "<matplotlib.axes._subplots.AxesSubplot at 0x1b6d1db96a0>"
      ]
     },
     "execution_count": 82,
     "metadata": {},
     "output_type": "execute_result"
    },
    {
     "data": {
      "image/png": "[encoded data removed]",
      "text/plain": [
       "<Figure size 432x288 with 1 Axes>"
      ]
     },
     "metadata": {
      "needs_background": "light"
     },
     "output_type": "display_data"
    }
   ],
   "source": [
    "ic_leeftijd = pd.read_csv(loadfile('COVID-19_ziekenhuis_ic_opnames_per_leeftijdsgroep'),delimiter=';').rename(columns={'Date_of_statistics_week_start':'Date'})\n",
    "\n",
    "def ziekehuis_leeftijd_relatief(ic_leeftijd,groups):\n",
    "    ### BEGIN SOLUTION\n",
    "    ic_leeftijd = ic_leeftijd[ic_leeftijd['Age_group'] != 'Unknown']\n",
    "    all_leeftijd = pd.pivot_table(ic_leeftijd,index='Date',columns='Age_group',values='Hospital_admission',aggfunc='sum')\n",
    "    all_leeftijd.index = pd.to_datetime(all_leeftijd.index)\n",
    "    vaccination_period = all_leeftijd.groupby(by=[all_leeftijd.index.isocalendar().year,all_leeftijd.index.isocalendar().week]).sum()\n",
    "    sliced_weeks = vaccination_period.loc[[2021]].droplevel(0)[:-5]\n",
    "    percentage_leeftijd = (100*sliced_weeks).divide(sliced_weeks.sum(axis=0))\n",
    "    table = pak_leeftijdsgroepen(percentage_leeftijd,groups)\n",
    "    ### BEGIN SOLUTION\n",
    "    return table\n",
    "\n",
    "def pak_leeftijdsgroepen(percentage_leeftijd,groups):\n",
    "    ### BEGIN SOLUTION\n",
    "    table = percentage_leeftijd.loc[:,~percentage_leeftijd.columns.isin(percentage_leeftijd.iloc[:,groups:-groups].columns)]\n",
    "    ### END SOLUTION\n",
    "    return table\n",
    "\n",
    "\n",
    "leeftijdverdeling = ziekehuis_leeftijd_relatief(ic_leeftijd,3)\n",
    "leeftijdverdeling.plot(xlabel='Week',ylabel='Percentage ziekenhuisopnames',title='Het percentage ziekenhuisopnames van het totaal aantal ziekenhuisopnames per drie jongste/oudste leeftijdsgroepen vanaf de vaccinatiestart.')"
   ]
  },
  {
   "cell_type": "code",
   "execution_count": 83,
   "metadata": {
    "nbgrader": {
     "grade": true,
     "grade_id": "cell-6967264f09977853",
     "locked": true,
     "points": 0,
     "schema_version": 1,
     "solution": false
    }
   },
   "outputs": [],
   "source": [
    "percentage_leeftijd = ziekehuis_leeftijd_relatief(ic_leeftijd,3)\n",
    "colss = pak_leeftijdsgroepen(percentage_leeftijd.iloc[:,1:],3).columns\n",
    "assert list(colss)==['15-19', '20-24', '80-84', '85-89', '90+']\n",
    "assert isinstance(leeftijdverdeling, pd.DataFrame)"
   ]
  },
  {
   "cell_type": "code",
   "execution_count": 84,
   "metadata": {
    "nbgrader": {
     "grade": true,
     "grade_id": "cell-00e20f96c6eff2f8",
     "locked": true,
     "points": 1,
     "schema_version": 1,
     "solution": false
    }
   },
   "outputs": [],
   "source": [
    "### BEGIN HIDDEN TESTS\n",
    "ic_leeftijd = pd.read_csv(loadfile('COVID-19_ziekenhuis_ic_opnames_per_leeftijdsgroep'),delimiter=';').rename(columns={'Date_of_statistics_week_start':'Date'})\n",
    "\n",
    "def MYziekehuis_leeftijd_relatief(ic_leeftijd,groups):\n",
    "    ic_leeftijd = ic_leeftijd[ic_leeftijd['Age_group'] != 'Unknown']\n",
    "    all_leeftijd = pd.pivot_table(ic_leeftijd,index='Date',columns='Age_group',values='Hospital_admission',aggfunc='sum')\n",
    "    all_leeftijd.index = pd.to_datetime(all_leeftijd.index)\n",
    "    vaccination_period = all_leeftijd.groupby(by=[all_leeftijd.index.isocalendar().year,all_leeftijd.index.isocalendar().week]).sum()\n",
    "    sliced_weeks = vaccination_period.loc[[2021]].droplevel(0)[:-5]\n",
    "    MYpercentage_leeftijd = (100*sliced_weeks).divide(sliced_weeks.sum(axis=0))\n",
    "    MYleeftijdverdeling = MYpak_leeftijdsgroepen(MYpercentage_leeftijd,groups)\n",
    "    return MYleeftijdverdeling\n",
    "\n",
    "def MYpak_leeftijdsgroepen(MYpercentage_leeftijd,groups):\n",
    "    ### BEGIN SOLUTION\n",
    "    table = MYpercentage_leeftijd.loc[:,~MYpercentage_leeftijd.columns.isin(MYpercentage_leeftijd.iloc[:,groups:-groups].columns)]\n",
    "    ### END SOLUTION\n",
    "    return table\n",
    "\n",
    "MYleeftijdverdeling = MYziekehuis_leeftijd_relatief(ic_leeftijd,3)\n",
    "pd.testing.assert_frame_equal(leeftijdverdeling,MYleeftijdverdeling)\n",
    "\n",
    "\n",
    "### END HIDDEN TESTS"
   ]
  },
  {
   "cell_type": "code",
   "execution_count": 85,
   "metadata": {
    "nbgrader": {
     "grade": true,
     "grade_id": "cell-f05f39f16a3e09fa",
     "locked": true,
     "points": 1,
     "schema_version": 1,
     "solution": false
    }
   },
   "outputs": [],
   "source": [
    "### BEGIN HIDDEN TESTS\n",
    "test_age_groups = pd.pivot_table(ic_leeftijd,index='Date',columns='Age_group',values='Hospital_admission',aggfunc='sum').iloc[:,2:-4]\n",
    "MYcolss = pak_leeftijdsgroepen(test_age_groups,3)\n",
    "assert_equal(list(MYcolss),['20-24', '25-29', '30-34', '65-69', '70-74', '75-79'])\n",
    "### END HIDDEN TESTS"
   ]
  },
  {
   "cell_type": "markdown",
   "metadata": {
    "nbgrader": {
     "grade": false,
     "grade_id": "cell-fcc59746594cf02e",
     "locked": true,
     "schema_version": 1,
     "solution": false
    }
   },
   "source": [
    "### pd Vraag 10: <a class='anchor' id='pd10'></a>\n",
    "Maak één dataframe met per week het aantal procent mannen en vrouwen dat zich zorgen maakt uit het gedragsonderzoek van het RIVM. En maak één dataframe dat het totaal aantal overledenen per geslacht weergeeft per week. Voeg deze twee dataframes samen en zorg dat voor elke week steeds het laatste onderzoek geldt dat het RIVM heeft uitgevoerd. \n",
    "\n",
    "Tip: Maak gebruik van pd.to_datetime().\n",
    "\n",
    "Return een dataframe met per week (beginnend bij week 0) het aantal overleden mannen dat zich wel zorgen heeft gemaakt over het virus in kolom <b>'Mannen_overleden_met_zorg'</b>, het aantal overleden vrouwen dat zich wel zorgen heeft gemaakt in kolom <b>'Vrouwen_overleden_met_zorg'</b>, het aantal overleden mannen dat zich geen zorgen heeft gemaakt in kolom <b>'Mannen_overleden_zonder_zorg'</b> en het aantal overleden vrouwen dat zich geen zorgen heeft gemaakt in kolom <b>'Vrouwen_overleden_zonder_zorg'</b>."
   ]
  },
  {
   "cell_type": "code",
   "execution_count": 86,
   "metadata": {
    "nbgrader": {
     "grade": false,
     "grade_id": "cell-c0c0477bdd34d24d",
     "locked": false,
     "schema_version": 1,
     "solution": true
    }
   },
   "outputs": [
    {
     "data": {
      "text/plain": [
       "<matplotlib.axes._subplots.AxesSubplot at 0x1b6d1ffa550>"
      ]
     },
     "execution_count": 86,
     "metadata": {},
     "output_type": "execute_result"
    },
    {
     "data": {
      "image/png": "[encoded data removed]",
      "text/plain": [
       "<Figure size 432x288 with 1 Axes>"
      ]
     },
     "metadata": {
      "needs_background": "light"
     },
     "output_type": "display_data"
    }
   ],
   "source": [
    "gedrag = pd.read_csv(loadfile('gedrag'),delimiter=';').rename(columns={'Date_of_measurement':'Date'})\n",
    "def wekelijks_zorgmakenden(gedrag):\n",
    "    ### BEGIN SOLUTION\n",
    "    naleving = gedrag[(gedrag['Indicator_category']=='Zorgen')]\n",
    "    opleiding = naleving[(naleving['Subgroup_category']=='Geslacht')&(naleving['Indicator']=='Zorgen_over_Coronavirus')]\n",
    "    zorgen = pd.pivot_table(opleiding,index='Date',columns='Subgroup',values='Value',aggfunc='mean')\n",
    "    zorgen.index = pd.to_datetime(zorgen.index)\n",
    "    zorgen_per_week = zorgen.groupby([zorgen.index.isocalendar().year, zorgen.index.isocalendar().week]).mean()\n",
    "    zorgen_per_week.index = pd.Index(zorgen_per_week.index)\n",
    "    ### END SOLUTION\n",
    "    return zorgen_per_week\n",
    "\n",
    "zorgen_per_week = wekelijks_zorgmakenden(gedrag)\n",
    "\n",
    "casus = pd.read_csv(loadfile('casus'), sep=';')\n",
    "def wekelijks_overledenen(casus):\n",
    "    ### BEGIN SOLUTION\n",
    "    casus = casus[casus['Deceased'] != 'Unknown']\n",
    "    casus = casus[casus['Sex'] != 'Unknown']\n",
    "    casus['Deceased'] = casus['Deceased'].str.replace('Yes','1').str.replace('No','0').astype(int)\n",
    "    casus['Date_statistics'] = pd.to_datetime(casus['Date_statistics'])\n",
    "    overledenen_per_geslacht = pd.pivot_table(casus, index=['Date_statistics'],columns=['Sex'],values=['Deceased'],aggfunc='sum')\n",
    "    overledenen_weken = overledenen_per_geslacht.groupby([overledenen_per_geslacht.index.isocalendar().year, overledenen_per_geslacht.index.isocalendar().week]).sum()\n",
    "    overledenen_weken.index = overledenen_weken.index.to_flat_index()\n",
    "    overledenen_weken = overledenen_weken['Deceased'].add_suffix('s_deceased')\n",
    "    ### END SOLUTION\n",
    "    return overledenen_weken\n",
    "\n",
    "overledenen_weken = wekelijks_overledenen(casus)\n",
    "\n",
    "def zorgende_overledenen(overledenen_weken,zorgen_per_week):\n",
    "    ### BEGIN SOLUTION\n",
    "    merge_and_fill = pd.merge(overledenen_weken,zorgen_per_week,left_index=True,right_index=True,how='left').ffill().dropna()\n",
    "    merge_and_fill['M_nietzorgmakenden']=100-merge_and_fill['Man']\n",
    "    merge_and_fill['V_nietzorgmakenden']=100-merge_and_fill['Vrouw']\n",
    "    merge_and_fill['Mannen_overleden_zonder_zorg'] = merge_and_fill['Males_deceased']*merge_and_fill['M_nietzorgmakenden']\n",
    "    merge_and_fill['Vrouwen_overleden_zonder_zorg'] = merge_and_fill['Females_deceased']*merge_and_fill['V_nietzorgmakenden']\n",
    "    merge_and_fill['Mannen_overleden_met_zorg'] = merge_and_fill['Males_deceased']*merge_and_fill['Man']\n",
    "    merge_and_fill['Vrouwen_overleden_met_zorg'] = merge_and_fill['Females_deceased']*merge_and_fill['Vrouw']\n",
    "    overledenen = merge_and_fill[['Mannen_overleden_zonder_zorg','Mannen_overleden_met_zorg','Vrouwen_overleden_zonder_zorg','Vrouwen_overleden_met_zorg']]\n",
    "    ### END SOLUTION\n",
    "    return overledenen.reset_index().drop(columns='index')\n",
    "\n",
    "overleden_zorgen = zorgende_overledenen(overledenen_weken,zorgen_per_week)\n",
    "overleden_zorgen.plot(xlabel='weken',ylabel='overledenen',title='Overleden door corona met/zonder zorg over het virus per geslacht.')"
   ]
  },
  {
   "cell_type": "code",
   "execution_count": 87,
   "metadata": {
    "nbgrader": {
     "grade": true,
     "grade_id": "cell-a64ef9870b890bbc",
     "locked": true,
     "points": 0,
     "schema_version": 1,
     "solution": false
    }
   },
   "outputs": [],
   "source": [
    "### TESTEN VOOR STUDENT\n",
    "assert isinstance(zorgen_per_week,pd.DataFrame)\n",
    "assert isinstance(overledenen_weken,pd.DataFrame)\n",
    "assert isinstance(overleden_zorgen,pd.DataFrame)\n",
    "cols = list(overleden_zorgen.columns)\n",
    "cols2 = ['Mannen_overleden_zonder_zorg', 'Mannen_overleden_met_zorg','Vrouwen_overleden_zonder_zorg', 'Vrouwen_overleden_met_zorg']\n",
    "assert_equal(cols,cols2)"
   ]
  },
  {
   "cell_type": "code",
   "execution_count": 88,
   "metadata": {
    "nbgrader": {
     "grade": true,
     "grade_id": "cell-f6cd8ce646d886c5",
     "locked": true,
     "points": 2,
     "schema_version": 1,
     "solution": false
    }
   },
   "outputs": [],
   "source": [
    "### BEGIN HIDDEN TESTS\n",
    "gedrag = pd.read_csv(loadfile('gedrag'),delimiter=';').rename(columns={'Date_of_measurement':'Date'})\n",
    "def MYwekelijks_zorgmakenden(gedrag):\n",
    "    naleving = gedrag[(gedrag['Indicator_category']=='Zorgen')]\n",
    "    opleiding = naleving[(naleving['Subgroup_category']=='Geslacht')&(naleving['Indicator']=='Zorgen_over_Coronavirus')]\n",
    "    zorgen = pd.pivot_table(opleiding,index='Date',columns='Subgroup',values='Value',aggfunc='mean')\n",
    "    zorgen.index = pd.to_datetime(zorgen.index)\n",
    "    zorgen_per_week = zorgen.groupby([zorgen.index.isocalendar().year, zorgen.index.isocalendar().week]).mean()\n",
    "    zorgen_per_week.index = pd.Index(zorgen_per_week.index)\n",
    "    return zorgen_per_week\n",
    "\n",
    "MYzorgen_per_week = MYwekelijks_zorgmakenden(gedrag)\n",
    "\n",
    "casus = pd.read_csv(loadfile('casus'), sep=';')\n",
    "def MYwekelijks_overledenen(casus):\n",
    "    casus = casus[casus['Deceased'] != 'Unknown']\n",
    "    casus = casus[casus['Sex'] != 'Unknown']\n",
    "    casus['Deceased'] = casus['Deceased'].str.replace('Yes','1').str.replace('No','0').astype(int)\n",
    "    casus['Date_statistics'] = pd.to_datetime(casus['Date_statistics'])\n",
    "    overledenen_per_geslacht = pd.pivot_table(casus, index=['Date_statistics'],columns=['Sex'],values=['Deceased'],aggfunc='sum')\n",
    "    overledenen_weken = overledenen_per_geslacht.groupby([overledenen_per_geslacht.index.isocalendar().year, overledenen_per_geslacht.index.isocalendar().week]).sum()\n",
    "    overledenen_weken.index = overledenen_weken.index.to_flat_index()\n",
    "    overledenen_weken = overledenen_weken['Deceased'].add_suffix('s_deceased')\n",
    "    return overledenen_weken\n",
    "\n",
    "MYoverledenen_weken = MYwekelijks_overledenen(casus)\n",
    "\n",
    "def MYzorgende_overledenen(MYoverledenen_weken,MYzorgen_per_week):\n",
    "    ### BEGIN SOLUTION\n",
    "    merge_and_fill = pd.merge(MYoverledenen_weken,MYzorgen_per_week,left_index=True,right_index=True,how='left').ffill().dropna()\n",
    "    merge_and_fill['M_nietzorgmakenden']=100-merge_and_fill['Man']\n",
    "    merge_and_fill['V_nietzorgmakenden']=100-merge_and_fill['Vrouw']\n",
    "    merge_and_fill['Mannen_overleden_zonder_zorg'] = merge_and_fill['Males_deceased']*merge_and_fill['M_nietzorgmakenden']\n",
    "    merge_and_fill['Vrouwen_overleden_zonder_zorg'] = merge_and_fill['Females_deceased']*merge_and_fill['V_nietzorgmakenden']\n",
    "    merge_and_fill['Mannen_overleden_met_zorg'] = merge_and_fill['Males_deceased']*merge_and_fill['Man']\n",
    "    merge_and_fill['Vrouwen_overleden_met_zorg'] = merge_and_fill['Females_deceased']*merge_and_fill['Vrouw']\n",
    "    overledenen = merge_and_fill[['Mannen_overleden_zonder_zorg','Mannen_overleden_met_zorg','Vrouwen_overleden_zonder_zorg','Vrouwen_overleden_met_zorg']]\n",
    "    return overledenen.reset_index().drop(columns='index')\n",
    "\n",
    "MYoverleden_zorgen = MYzorgende_overledenen(overledenen_weken,zorgen_per_week)\n",
    "\n",
    "pd.testing.assert_frame_equal(MYoverleden_zorgen,overleden_zorgen,check_names=False,check_dtype=False)\n",
    "### END HIDDEN TESTS"
   ]
  }
 ],
 "metadata": {
  "celltoolbar": "Create Assignment",
  "kernelspec": {
   "display_name": "Python 3",
   "language": "python",
   "name": "python3"
  },
  "language_info": {
   "codemirror_mode": {
    "name": "ipython",
    "version": 3
   },
   "file_extension": ".py",
   "mimetype": "text/x-python",
   "name": "python",
   "nbconvert_exporter": "python",
   "pygments_lexer": "ipython3",
   "version": "3.7.3"
  },
  "toc": {
   "nav_menu": {},
   "number_sections": true,
   "sideBar": true,
   "skip_h1_title": false,
   "title_cell": "Table of Contents",
   "title_sidebar": "Contents",
   "toc_cell": true,
   "toc_position": {},
   "toc_section_display": true,
   "toc_window_display": false
  }
 },
 "nbformat": 4,
 "nbformat_minor": 5
}
